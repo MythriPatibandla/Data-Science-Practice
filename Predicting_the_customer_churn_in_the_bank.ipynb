{
  "nbformat": 4,
  "nbformat_minor": 0,
  "metadata": {
    "kernelspec": {
      "display_name": "Python 3",
      "language": "python",
      "name": "python3"
    },
    "language_info": {
      "codemirror_mode": {
        "name": "ipython",
        "version": 3
      },
      "file_extension": ".py",
      "mimetype": "text/x-python",
      "name": "python",
      "nbconvert_exporter": "python",
      "pygments_lexer": "ipython3",
      "version": "3.8.8"
    },
    "colab": {
      "name": "Predicting the customer churn in the bank.ipynb",
      "provenance": [],
      "collapsed_sections": []
    }
  },
  "cells": [
    {
      "cell_type": "markdown",
      "metadata": {
        "id": "4GBxo24Hv1-T"
      },
      "source": [
        "# Predicting the customer churn in the bank"
      ]
    },
    {
      "cell_type": "code",
      "metadata": {
        "colab": {
          "base_uri": "https://localhost:8080/"
        },
        "id": "qM-Hk5nGwE3M",
        "outputId": "7dba0bcf-718e-47c4-9ab6-598d25d39133"
      },
      "source": [
        "from google.colab import drive\n",
        "drive.mount('/content/drive')"
      ],
      "execution_count": 1,
      "outputs": [
        {
          "output_type": "stream",
          "name": "stdout",
          "text": [
            "Mounted at /content/drive\n"
          ]
        }
      ]
    },
    {
      "cell_type": "code",
      "metadata": {
        "colab": {
          "base_uri": "https://localhost:8080/"
        },
        "id": "b7a5UOeMw8w3",
        "outputId": "634dc0e2-9da9-4a85-de54-cf9a6f47de84"
      },
      "source": [
        "%cd /content/drive/MyDrive/insofe"
      ],
      "execution_count": 2,
      "outputs": [
        {
          "output_type": "stream",
          "name": "stdout",
          "text": [
            "/content/drive/MyDrive/insofe\n"
          ]
        }
      ]
    },
    {
      "cell_type": "markdown",
      "metadata": {
        "id": "U3oznas-v1-X"
      },
      "source": [
        "### Problem Statement"
      ]
    },
    {
      "cell_type": "markdown",
      "metadata": {
        "id": "Hp1fGhYFv1-Y"
      },
      "source": [
        "* As we know, it is much more expensive to sign in a new client than keeping an existing one.\n",
        "For banks it is very useful to know what leads a client towards the decision of leaving the company."
      ]
    },
    {
      "cell_type": "markdown",
      "metadata": {
        "id": "3eTdTWrwv1-Z"
      },
      "source": [
        "*Preprocessing on Train and Test data*\n",
        "* Read the given data \n",
        "* checking levels,datatypes,null values\n",
        "* conversion of year,month,day of birth into age\n",
        "* conversion of year,month,day of entry into duration\n",
        "* drop the unwanted columns\n",
        "* datatype conversion\n",
        "* dummification\n",
        "* Correlation plot\n",
        "\n",
        "* Train and validation split\n",
        "* Standerdization\n",
        "\n",
        "*Model buildng*\n",
        "\n",
        "* Logistic Regression\n",
        "* Random Forest\n",
        "* XGBOOST\n",
        "* Decision tree"
      ]
    },
    {
      "cell_type": "markdown",
      "metadata": {
        "id": "hc7v8zCiv1-Z"
      },
      "source": [
        "**Importing Libraries**"
      ]
    },
    {
      "cell_type": "code",
      "metadata": {
        "id": "4y4nwpLNv1-a"
      },
      "source": [
        "### Load the required libraries\n",
        "import numpy as np\n",
        "import pandas as pd\n",
        "import matplotlib.pyplot as plt\n",
        "%matplotlib inline\n",
        "import seaborn as sns\n",
        "from sklearn.tree import DecisionTreeClassifier, export_graphviz,DecisionTreeRegressor\n",
        "from sklearn.model_selection import train_test_split\n",
        "from sklearn.metrics import accuracy_score,mean_absolute_error\n",
        "from sklearn import tree,ensemble\n",
        "from sklearn.impute import SimpleImputer\n",
        "from sklearn.preprocessing import StandardScaler"
      ],
      "execution_count": 3,
      "outputs": []
    },
    {
      "cell_type": "markdown",
      "metadata": {
        "id": "T3SNl__ov1-b"
      },
      "source": [
        "# Pre Processing"
      ]
    },
    {
      "cell_type": "markdown",
      "metadata": {
        "id": "27iSf7ySv1-c"
      },
      "source": [
        "**Read and Understand data**"
      ]
    },
    {
      "cell_type": "code",
      "metadata": {
        "id": "wNgC8bNAv1-c"
      },
      "source": [
        "#read the data\n",
        "churn_train=pd.read_excel(\"Train.xlsx\")\n",
        "churn_test=pd.read_excel(\"Test.xlsx\")\n"
      ],
      "execution_count": 6,
      "outputs": []
    },
    {
      "cell_type": "code",
      "metadata": {
        "colab": {
          "base_uri": "https://localhost:8080/",
          "height": 223
        },
        "id": "K-RQdTPmv1-d",
        "outputId": "91e9ec98-7caa-47db-fc2a-a8726ddf00c3"
      },
      "source": [
        "churn_train.head()"
      ],
      "execution_count": 7,
      "outputs": [
        {
          "output_type": "execute_result",
          "data": {
            "text/html": [
              "<div>\n",
              "<style scoped>\n",
              "    .dataframe tbody tr th:only-of-type {\n",
              "        vertical-align: middle;\n",
              "    }\n",
              "\n",
              "    .dataframe tbody tr th {\n",
              "        vertical-align: top;\n",
              "    }\n",
              "\n",
              "    .dataframe thead th {\n",
              "        text-align: right;\n",
              "    }\n",
              "</style>\n",
              "<table border=\"1\" class=\"dataframe\">\n",
              "  <thead>\n",
              "    <tr style=\"text-align: right;\">\n",
              "      <th></th>\n",
              "      <th>CustomerID</th>\n",
              "      <th>CustomerName</th>\n",
              "      <th>yearofBirth</th>\n",
              "      <th>monthofBirth</th>\n",
              "      <th>dayofBirth</th>\n",
              "      <th>yearofEntry</th>\n",
              "      <th>monthofEntry</th>\n",
              "      <th>dayofEntry</th>\n",
              "      <th>Gender</th>\n",
              "      <th>Location</th>\n",
              "      <th>Education</th>\n",
              "      <th>MaritalStatus</th>\n",
              "      <th>Occupation</th>\n",
              "      <th>Ownhouse</th>\n",
              "      <th>CreditScore</th>\n",
              "      <th>AccountBalance</th>\n",
              "      <th>NumberOfProducts</th>\n",
              "      <th>IsCreditCardCustomer</th>\n",
              "      <th>ActiveMember</th>\n",
              "      <th>Salary</th>\n",
              "      <th>Churn</th>\n",
              "    </tr>\n",
              "  </thead>\n",
              "  <tbody>\n",
              "    <tr>\n",
              "      <th>0</th>\n",
              "      <td>C5814651</td>\n",
              "      <td>Name_5814651</td>\n",
              "      <td>1980</td>\n",
              "      <td>5</td>\n",
              "      <td>12</td>\n",
              "      <td>2014</td>\n",
              "      <td>11</td>\n",
              "      <td>28</td>\n",
              "      <td>Male</td>\n",
              "      <td>Location11</td>\n",
              "      <td>primary</td>\n",
              "      <td>divorced</td>\n",
              "      <td>management</td>\n",
              "      <td>no</td>\n",
              "      <td>716</td>\n",
              "      <td>0.00</td>\n",
              "      <td>2</td>\n",
              "      <td>1</td>\n",
              "      <td>0</td>\n",
              "      <td>189678.70</td>\n",
              "      <td>No</td>\n",
              "    </tr>\n",
              "    <tr>\n",
              "      <th>1</th>\n",
              "      <td>C6465787</td>\n",
              "      <td>Name_6465787</td>\n",
              "      <td>1986</td>\n",
              "      <td>12</td>\n",
              "      <td>28</td>\n",
              "      <td>2011</td>\n",
              "      <td>8</td>\n",
              "      <td>17</td>\n",
              "      <td>Female</td>\n",
              "      <td>Location13</td>\n",
              "      <td>primary</td>\n",
              "      <td>divorced</td>\n",
              "      <td>admin.</td>\n",
              "      <td>no</td>\n",
              "      <td>568</td>\n",
              "      <td>169399.60</td>\n",
              "      <td>1</td>\n",
              "      <td>1</td>\n",
              "      <td>0</td>\n",
              "      <td>61936.22</td>\n",
              "      <td>No</td>\n",
              "    </tr>\n",
              "    <tr>\n",
              "      <th>2</th>\n",
              "      <td>C3824349</td>\n",
              "      <td>Name_3824349</td>\n",
              "      <td>1999</td>\n",
              "      <td>11</td>\n",
              "      <td>23</td>\n",
              "      <td>2013</td>\n",
              "      <td>12</td>\n",
              "      <td>9</td>\n",
              "      <td>Male</td>\n",
              "      <td>Location13</td>\n",
              "      <td>secondary</td>\n",
              "      <td>married</td>\n",
              "      <td>unknown</td>\n",
              "      <td>unknown</td>\n",
              "      <td>739</td>\n",
              "      <td>89750.21</td>\n",
              "      <td>1</td>\n",
              "      <td>1</td>\n",
              "      <td>0</td>\n",
              "      <td>193008.52</td>\n",
              "      <td>No</td>\n",
              "    </tr>\n",
              "    <tr>\n",
              "      <th>3</th>\n",
              "      <td>C8431888</td>\n",
              "      <td>Name_8431888</td>\n",
              "      <td>1969</td>\n",
              "      <td>4</td>\n",
              "      <td>6</td>\n",
              "      <td>2015</td>\n",
              "      <td>12</td>\n",
              "      <td>12</td>\n",
              "      <td>Female</td>\n",
              "      <td>Location11</td>\n",
              "      <td>tertiary</td>\n",
              "      <td>married</td>\n",
              "      <td>admin.</td>\n",
              "      <td>yes</td>\n",
              "      <td>678</td>\n",
              "      <td>204510.94</td>\n",
              "      <td>1</td>\n",
              "      <td>0</td>\n",
              "      <td>1</td>\n",
              "      <td>738.88</td>\n",
              "      <td>Yes</td>\n",
              "    </tr>\n",
              "    <tr>\n",
              "      <th>4</th>\n",
              "      <td>C2944860</td>\n",
              "      <td>Name_2944860</td>\n",
              "      <td>1993</td>\n",
              "      <td>6</td>\n",
              "      <td>15</td>\n",
              "      <td>2012</td>\n",
              "      <td>10</td>\n",
              "      <td>10</td>\n",
              "      <td>Male</td>\n",
              "      <td>Location13</td>\n",
              "      <td>tertiary</td>\n",
              "      <td>single</td>\n",
              "      <td>management</td>\n",
              "      <td>no</td>\n",
              "      <td>670</td>\n",
              "      <td>0.00</td>\n",
              "      <td>2</td>\n",
              "      <td>1</td>\n",
              "      <td>1</td>\n",
              "      <td>78358.94</td>\n",
              "      <td>No</td>\n",
              "    </tr>\n",
              "  </tbody>\n",
              "</table>\n",
              "</div>"
            ],
            "text/plain": [
              "  CustomerID  CustomerName  yearofBirth  ...  ActiveMember     Salary  Churn\n",
              "0   C5814651  Name_5814651         1980  ...             0  189678.70     No\n",
              "1   C6465787  Name_6465787         1986  ...             0   61936.22     No\n",
              "2   C3824349  Name_3824349         1999  ...             0  193008.52     No\n",
              "3   C8431888  Name_8431888         1969  ...             1     738.88    Yes\n",
              "4   C2944860  Name_2944860         1993  ...             1   78358.94     No\n",
              "\n",
              "[5 rows x 21 columns]"
            ]
          },
          "metadata": {},
          "execution_count": 7
        }
      ]
    },
    {
      "cell_type": "code",
      "metadata": {
        "colab": {
          "base_uri": "https://localhost:8080/",
          "height": 223
        },
        "id": "Qh3Cs18iv1-e",
        "outputId": "afa3c61f-bd28-4e78-de9f-9d0efc021485"
      },
      "source": [
        "churn_test.head()"
      ],
      "execution_count": 8,
      "outputs": [
        {
          "output_type": "execute_result",
          "data": {
            "text/html": [
              "<div>\n",
              "<style scoped>\n",
              "    .dataframe tbody tr th:only-of-type {\n",
              "        vertical-align: middle;\n",
              "    }\n",
              "\n",
              "    .dataframe tbody tr th {\n",
              "        vertical-align: top;\n",
              "    }\n",
              "\n",
              "    .dataframe thead th {\n",
              "        text-align: right;\n",
              "    }\n",
              "</style>\n",
              "<table border=\"1\" class=\"dataframe\">\n",
              "  <thead>\n",
              "    <tr style=\"text-align: right;\">\n",
              "      <th></th>\n",
              "      <th>CustomerID</th>\n",
              "      <th>CustomerName</th>\n",
              "      <th>yearofBirth</th>\n",
              "      <th>monthofBirth</th>\n",
              "      <th>dayofBirth</th>\n",
              "      <th>yearofEntry</th>\n",
              "      <th>monthofEntry</th>\n",
              "      <th>dayofEntry</th>\n",
              "      <th>Gender</th>\n",
              "      <th>Location</th>\n",
              "      <th>Education</th>\n",
              "      <th>MaritalStatus</th>\n",
              "      <th>Occupation</th>\n",
              "      <th>Ownhouse</th>\n",
              "      <th>CreditScore</th>\n",
              "      <th>AccountBalance</th>\n",
              "      <th>NumberOfProducts</th>\n",
              "      <th>IsCreditCardCustomer</th>\n",
              "      <th>ActiveMember</th>\n",
              "      <th>Salary</th>\n",
              "    </tr>\n",
              "  </thead>\n",
              "  <tbody>\n",
              "    <tr>\n",
              "      <th>0</th>\n",
              "      <td>C5993228</td>\n",
              "      <td>Name_5993228</td>\n",
              "      <td>1972</td>\n",
              "      <td>5</td>\n",
              "      <td>5</td>\n",
              "      <td>2015</td>\n",
              "      <td>12</td>\n",
              "      <td>16</td>\n",
              "      <td>Male</td>\n",
              "      <td>Location13</td>\n",
              "      <td>unknown</td>\n",
              "      <td>single</td>\n",
              "      <td>management</td>\n",
              "      <td>yes</td>\n",
              "      <td>624</td>\n",
              "      <td>0.00</td>\n",
              "      <td>2</td>\n",
              "      <td>1</td>\n",
              "      <td>1</td>\n",
              "      <td>62825.03</td>\n",
              "    </tr>\n",
              "    <tr>\n",
              "      <th>1</th>\n",
              "      <td>C6546925</td>\n",
              "      <td>Name_6546925</td>\n",
              "      <td>1990</td>\n",
              "      <td>12</td>\n",
              "      <td>27</td>\n",
              "      <td>2016</td>\n",
              "      <td>11</td>\n",
              "      <td>26</td>\n",
              "      <td>Female</td>\n",
              "      <td>Location11</td>\n",
              "      <td>primary</td>\n",
              "      <td>married</td>\n",
              "      <td>admin.</td>\n",
              "      <td>yes</td>\n",
              "      <td>777</td>\n",
              "      <td>134571.50</td>\n",
              "      <td>1</td>\n",
              "      <td>0</td>\n",
              "      <td>1</td>\n",
              "      <td>118313.38</td>\n",
              "    </tr>\n",
              "    <tr>\n",
              "      <th>2</th>\n",
              "      <td>C7491750</td>\n",
              "      <td>Name_7491750</td>\n",
              "      <td>1966</td>\n",
              "      <td>7</td>\n",
              "      <td>25</td>\n",
              "      <td>2011</td>\n",
              "      <td>10</td>\n",
              "      <td>24</td>\n",
              "      <td>Female</td>\n",
              "      <td>Location13</td>\n",
              "      <td>primary</td>\n",
              "      <td>married</td>\n",
              "      <td>admin.</td>\n",
              "      <td>yes</td>\n",
              "      <td>707</td>\n",
              "      <td>0.00</td>\n",
              "      <td>1</td>\n",
              "      <td>1</td>\n",
              "      <td>0</td>\n",
              "      <td>109688.82</td>\n",
              "    </tr>\n",
              "    <tr>\n",
              "      <th>3</th>\n",
              "      <td>C8462011</td>\n",
              "      <td>Name_8462011</td>\n",
              "      <td>1983</td>\n",
              "      <td>7</td>\n",
              "      <td>7</td>\n",
              "      <td>2016</td>\n",
              "      <td>7</td>\n",
              "      <td>9</td>\n",
              "      <td>Male</td>\n",
              "      <td>Location11</td>\n",
              "      <td>secondary</td>\n",
              "      <td>divorced</td>\n",
              "      <td>management</td>\n",
              "      <td>no</td>\n",
              "      <td>746</td>\n",
              "      <td>172274.01</td>\n",
              "      <td>1</td>\n",
              "      <td>1</td>\n",
              "      <td>0</td>\n",
              "      <td>22374.97</td>\n",
              "    </tr>\n",
              "    <tr>\n",
              "      <th>4</th>\n",
              "      <td>C3187447</td>\n",
              "      <td>Name_3187447</td>\n",
              "      <td>1983</td>\n",
              "      <td>8</td>\n",
              "      <td>9</td>\n",
              "      <td>2009</td>\n",
              "      <td>5</td>\n",
              "      <td>15</td>\n",
              "      <td>Male</td>\n",
              "      <td>Location11</td>\n",
              "      <td>tertiary</td>\n",
              "      <td>divorced</td>\n",
              "      <td>management</td>\n",
              "      <td>no</td>\n",
              "      <td>762</td>\n",
              "      <td>0.00</td>\n",
              "      <td>2</td>\n",
              "      <td>1</td>\n",
              "      <td>1</td>\n",
              "      <td>43075.70</td>\n",
              "    </tr>\n",
              "  </tbody>\n",
              "</table>\n",
              "</div>"
            ],
            "text/plain": [
              "  CustomerID  CustomerName  ...  ActiveMember     Salary\n",
              "0   C5993228  Name_5993228  ...             1   62825.03\n",
              "1   C6546925  Name_6546925  ...             1  118313.38\n",
              "2   C7491750  Name_7491750  ...             0  109688.82\n",
              "3   C8462011  Name_8462011  ...             0   22374.97\n",
              "4   C3187447  Name_3187447  ...             1   43075.70\n",
              "\n",
              "[5 rows x 20 columns]"
            ]
          },
          "metadata": {},
          "execution_count": 8
        }
      ]
    },
    {
      "cell_type": "code",
      "metadata": {
        "colab": {
          "base_uri": "https://localhost:8080/"
        },
        "id": "2Qd7_MwHv1-e",
        "outputId": "5cde91d1-516e-459a-ed52-3819510fd66d"
      },
      "source": [
        "##gives the dimension of the data\n",
        "churn_train.shape"
      ],
      "execution_count": 9,
      "outputs": [
        {
          "output_type": "execute_result",
          "data": {
            "text/plain": [
              "(7360, 21)"
            ]
          },
          "metadata": {},
          "execution_count": 9
        }
      ]
    },
    {
      "cell_type": "code",
      "metadata": {
        "colab": {
          "base_uri": "https://localhost:8080/"
        },
        "id": "9hECOaPAv1-e",
        "outputId": "1192a836-f8e8-4780-bf46-81446d5e8f91"
      },
      "source": [
        "churn_test.shape"
      ],
      "execution_count": 10,
      "outputs": [
        {
          "output_type": "execute_result",
          "data": {
            "text/plain": [
              "(1840, 20)"
            ]
          },
          "metadata": {},
          "execution_count": 10
        }
      ]
    },
    {
      "cell_type": "code",
      "metadata": {
        "colab": {
          "base_uri": "https://localhost:8080/"
        },
        "id": "Aqx0ZF8cv1-f",
        "outputId": "046c1366-a701-44ec-ac95-099e1dddc2ab"
      },
      "source": [
        "churn_train.info()"
      ],
      "execution_count": 11,
      "outputs": [
        {
          "output_type": "stream",
          "name": "stdout",
          "text": [
            "<class 'pandas.core.frame.DataFrame'>\n",
            "RangeIndex: 7360 entries, 0 to 7359\n",
            "Data columns (total 21 columns):\n",
            " #   Column                Non-Null Count  Dtype  \n",
            "---  ------                --------------  -----  \n",
            " 0   CustomerID            7360 non-null   object \n",
            " 1   CustomerName          7360 non-null   object \n",
            " 2   yearofBirth           7360 non-null   int64  \n",
            " 3   monthofBirth          7360 non-null   int64  \n",
            " 4   dayofBirth            7360 non-null   int64  \n",
            " 5   yearofEntry           7360 non-null   int64  \n",
            " 6   monthofEntry          7360 non-null   int64  \n",
            " 7   dayofEntry            7360 non-null   int64  \n",
            " 8   Gender                7360 non-null   object \n",
            " 9   Location              7360 non-null   object \n",
            " 10  Education             7360 non-null   object \n",
            " 11  MaritalStatus         7360 non-null   object \n",
            " 12  Occupation            7360 non-null   object \n",
            " 13  Ownhouse              7360 non-null   object \n",
            " 14  CreditScore           7360 non-null   int64  \n",
            " 15  AccountBalance        7360 non-null   float64\n",
            " 16  NumberOfProducts      7360 non-null   int64  \n",
            " 17  IsCreditCardCustomer  7360 non-null   int64  \n",
            " 18  ActiveMember          7360 non-null   int64  \n",
            " 19  Salary                7360 non-null   float64\n",
            " 20  Churn                 7360 non-null   object \n",
            "dtypes: float64(2), int64(10), object(9)\n",
            "memory usage: 1.2+ MB\n"
          ]
        }
      ]
    },
    {
      "cell_type": "code",
      "metadata": {
        "colab": {
          "base_uri": "https://localhost:8080/"
        },
        "id": "I49pIiLxv1-f",
        "outputId": "00230e57-9fda-4cb8-873d-a25c3de34c07"
      },
      "source": [
        "churn_test.info()"
      ],
      "execution_count": 12,
      "outputs": [
        {
          "output_type": "stream",
          "name": "stdout",
          "text": [
            "<class 'pandas.core.frame.DataFrame'>\n",
            "RangeIndex: 1840 entries, 0 to 1839\n",
            "Data columns (total 20 columns):\n",
            " #   Column                Non-Null Count  Dtype  \n",
            "---  ------                --------------  -----  \n",
            " 0   CustomerID            1840 non-null   object \n",
            " 1   CustomerName          1840 non-null   object \n",
            " 2   yearofBirth           1840 non-null   int64  \n",
            " 3   monthofBirth          1840 non-null   int64  \n",
            " 4   dayofBirth            1840 non-null   int64  \n",
            " 5   yearofEntry           1840 non-null   int64  \n",
            " 6   monthofEntry          1840 non-null   int64  \n",
            " 7   dayofEntry            1840 non-null   int64  \n",
            " 8   Gender                1840 non-null   object \n",
            " 9   Location              1840 non-null   object \n",
            " 10  Education             1840 non-null   object \n",
            " 11  MaritalStatus         1840 non-null   object \n",
            " 12  Occupation            1840 non-null   object \n",
            " 13  Ownhouse              1840 non-null   object \n",
            " 14  CreditScore           1840 non-null   int64  \n",
            " 15  AccountBalance        1840 non-null   float64\n",
            " 16  NumberOfProducts      1840 non-null   int64  \n",
            " 17  IsCreditCardCustomer  1840 non-null   int64  \n",
            " 18  ActiveMember          1840 non-null   int64  \n",
            " 19  Salary                1840 non-null   float64\n",
            "dtypes: float64(2), int64(10), object(8)\n",
            "memory usage: 287.6+ KB\n"
          ]
        }
      ]
    },
    {
      "cell_type": "code",
      "metadata": {
        "colab": {
          "base_uri": "https://localhost:8080/",
          "height": 315
        },
        "id": "DokYhXeLv1-f",
        "outputId": "8a3a3040-10c0-417c-951f-db8caab47be0"
      },
      "source": [
        "##describe the data\n",
        "churn_train.describe()"
      ],
      "execution_count": 13,
      "outputs": [
        {
          "output_type": "execute_result",
          "data": {
            "text/html": [
              "<div>\n",
              "<style scoped>\n",
              "    .dataframe tbody tr th:only-of-type {\n",
              "        vertical-align: middle;\n",
              "    }\n",
              "\n",
              "    .dataframe tbody tr th {\n",
              "        vertical-align: top;\n",
              "    }\n",
              "\n",
              "    .dataframe thead th {\n",
              "        text-align: right;\n",
              "    }\n",
              "</style>\n",
              "<table border=\"1\" class=\"dataframe\">\n",
              "  <thead>\n",
              "    <tr style=\"text-align: right;\">\n",
              "      <th></th>\n",
              "      <th>yearofBirth</th>\n",
              "      <th>monthofBirth</th>\n",
              "      <th>dayofBirth</th>\n",
              "      <th>yearofEntry</th>\n",
              "      <th>monthofEntry</th>\n",
              "      <th>dayofEntry</th>\n",
              "      <th>CreditScore</th>\n",
              "      <th>AccountBalance</th>\n",
              "      <th>NumberOfProducts</th>\n",
              "      <th>IsCreditCardCustomer</th>\n",
              "      <th>ActiveMember</th>\n",
              "      <th>Salary</th>\n",
              "    </tr>\n",
              "  </thead>\n",
              "  <tbody>\n",
              "    <tr>\n",
              "      <th>count</th>\n",
              "      <td>7360.000000</td>\n",
              "      <td>7360.000000</td>\n",
              "      <td>7360.000000</td>\n",
              "      <td>7360.000000</td>\n",
              "      <td>7360.000000</td>\n",
              "      <td>7360.000000</td>\n",
              "      <td>7360.000000</td>\n",
              "      <td>7360.000000</td>\n",
              "      <td>7360.000000</td>\n",
              "      <td>7360.000000</td>\n",
              "      <td>7360.000000</td>\n",
              "      <td>7360.000000</td>\n",
              "    </tr>\n",
              "    <tr>\n",
              "      <th>mean</th>\n",
              "      <td>1979.058832</td>\n",
              "      <td>6.540897</td>\n",
              "      <td>14.607201</td>\n",
              "      <td>2012.984783</td>\n",
              "      <td>6.477174</td>\n",
              "      <td>14.505571</td>\n",
              "      <td>650.648777</td>\n",
              "      <td>76601.068011</td>\n",
              "      <td>1.524592</td>\n",
              "      <td>0.704212</td>\n",
              "      <td>0.510462</td>\n",
              "      <td>99967.894062</td>\n",
              "    </tr>\n",
              "    <tr>\n",
              "      <th>std</th>\n",
              "      <td>10.464673</td>\n",
              "      <td>3.432135</td>\n",
              "      <td>8.068158</td>\n",
              "      <td>2.898385</td>\n",
              "      <td>3.433252</td>\n",
              "      <td>8.020220</td>\n",
              "      <td>96.769231</td>\n",
              "      <td>62442.214871</td>\n",
              "      <td>0.577415</td>\n",
              "      <td>0.456427</td>\n",
              "      <td>0.499924</td>\n",
              "      <td>57342.390262</td>\n",
              "    </tr>\n",
              "    <tr>\n",
              "      <th>min</th>\n",
              "      <td>1926.000000</td>\n",
              "      <td>1.000000</td>\n",
              "      <td>1.000000</td>\n",
              "      <td>2008.000000</td>\n",
              "      <td>1.000000</td>\n",
              "      <td>1.000000</td>\n",
              "      <td>350.000000</td>\n",
              "      <td>0.000000</td>\n",
              "      <td>1.000000</td>\n",
              "      <td>0.000000</td>\n",
              "      <td>0.000000</td>\n",
              "      <td>11.580000</td>\n",
              "    </tr>\n",
              "    <tr>\n",
              "      <th>25%</th>\n",
              "      <td>1974.000000</td>\n",
              "      <td>4.000000</td>\n",
              "      <td>8.000000</td>\n",
              "      <td>2010.000000</td>\n",
              "      <td>4.000000</td>\n",
              "      <td>8.000000</td>\n",
              "      <td>584.000000</td>\n",
              "      <td>0.000000</td>\n",
              "      <td>1.000000</td>\n",
              "      <td>0.000000</td>\n",
              "      <td>0.000000</td>\n",
              "      <td>51361.780000</td>\n",
              "    </tr>\n",
              "    <tr>\n",
              "      <th>50%</th>\n",
              "      <td>1981.000000</td>\n",
              "      <td>7.000000</td>\n",
              "      <td>15.000000</td>\n",
              "      <td>2013.000000</td>\n",
              "      <td>6.000000</td>\n",
              "      <td>15.000000</td>\n",
              "      <td>652.000000</td>\n",
              "      <td>96913.725000</td>\n",
              "      <td>1.000000</td>\n",
              "      <td>1.000000</td>\n",
              "      <td>1.000000</td>\n",
              "      <td>99446.940000</td>\n",
              "    </tr>\n",
              "    <tr>\n",
              "      <th>75%</th>\n",
              "      <td>1986.000000</td>\n",
              "      <td>10.000000</td>\n",
              "      <td>22.000000</td>\n",
              "      <td>2015.250000</td>\n",
              "      <td>9.000000</td>\n",
              "      <td>21.000000</td>\n",
              "      <td>718.000000</td>\n",
              "      <td>127660.767500</td>\n",
              "      <td>2.000000</td>\n",
              "      <td>1.000000</td>\n",
              "      <td>1.000000</td>\n",
              "      <td>149068.075000</td>\n",
              "    </tr>\n",
              "    <tr>\n",
              "      <th>max</th>\n",
              "      <td>2000.000000</td>\n",
              "      <td>12.000000</td>\n",
              "      <td>28.000000</td>\n",
              "      <td>2018.000000</td>\n",
              "      <td>12.000000</td>\n",
              "      <td>28.000000</td>\n",
              "      <td>850.000000</td>\n",
              "      <td>250898.090000</td>\n",
              "      <td>4.000000</td>\n",
              "      <td>1.000000</td>\n",
              "      <td>1.000000</td>\n",
              "      <td>199992.480000</td>\n",
              "    </tr>\n",
              "  </tbody>\n",
              "</table>\n",
              "</div>"
            ],
            "text/plain": [
              "       yearofBirth  monthofBirth  ...  ActiveMember         Salary\n",
              "count  7360.000000   7360.000000  ...   7360.000000    7360.000000\n",
              "mean   1979.058832      6.540897  ...      0.510462   99967.894062\n",
              "std      10.464673      3.432135  ...      0.499924   57342.390262\n",
              "min    1926.000000      1.000000  ...      0.000000      11.580000\n",
              "25%    1974.000000      4.000000  ...      0.000000   51361.780000\n",
              "50%    1981.000000      7.000000  ...      1.000000   99446.940000\n",
              "75%    1986.000000     10.000000  ...      1.000000  149068.075000\n",
              "max    2000.000000     12.000000  ...      1.000000  199992.480000\n",
              "\n",
              "[8 rows x 12 columns]"
            ]
          },
          "metadata": {},
          "execution_count": 13
        }
      ]
    },
    {
      "cell_type": "code",
      "metadata": {
        "colab": {
          "base_uri": "https://localhost:8080/",
          "height": 315
        },
        "id": "fflVVYSNv1-g",
        "outputId": "b0987f05-44be-471f-a0e1-6abc0bee1b19"
      },
      "source": [
        "churn_test.describe()"
      ],
      "execution_count": 14,
      "outputs": [
        {
          "output_type": "execute_result",
          "data": {
            "text/html": [
              "<div>\n",
              "<style scoped>\n",
              "    .dataframe tbody tr th:only-of-type {\n",
              "        vertical-align: middle;\n",
              "    }\n",
              "\n",
              "    .dataframe tbody tr th {\n",
              "        vertical-align: top;\n",
              "    }\n",
              "\n",
              "    .dataframe thead th {\n",
              "        text-align: right;\n",
              "    }\n",
              "</style>\n",
              "<table border=\"1\" class=\"dataframe\">\n",
              "  <thead>\n",
              "    <tr style=\"text-align: right;\">\n",
              "      <th></th>\n",
              "      <th>yearofBirth</th>\n",
              "      <th>monthofBirth</th>\n",
              "      <th>dayofBirth</th>\n",
              "      <th>yearofEntry</th>\n",
              "      <th>monthofEntry</th>\n",
              "      <th>dayofEntry</th>\n",
              "      <th>CreditScore</th>\n",
              "      <th>AccountBalance</th>\n",
              "      <th>NumberOfProducts</th>\n",
              "      <th>IsCreditCardCustomer</th>\n",
              "      <th>ActiveMember</th>\n",
              "      <th>Salary</th>\n",
              "    </tr>\n",
              "  </thead>\n",
              "  <tbody>\n",
              "    <tr>\n",
              "      <th>count</th>\n",
              "      <td>1840.000000</td>\n",
              "      <td>1840.000000</td>\n",
              "      <td>1840.000000</td>\n",
              "      <td>1840.000000</td>\n",
              "      <td>1840.000000</td>\n",
              "      <td>1840.000000</td>\n",
              "      <td>1840.000000</td>\n",
              "      <td>1840.000000</td>\n",
              "      <td>1840.000000</td>\n",
              "      <td>1840.000000</td>\n",
              "      <td>1840.000000</td>\n",
              "      <td>1840.000000</td>\n",
              "    </tr>\n",
              "    <tr>\n",
              "      <th>mean</th>\n",
              "      <td>1979.079348</td>\n",
              "      <td>6.428261</td>\n",
              "      <td>14.646739</td>\n",
              "      <td>2013.067391</td>\n",
              "      <td>6.496739</td>\n",
              "      <td>14.621196</td>\n",
              "      <td>650.783152</td>\n",
              "      <td>75116.590674</td>\n",
              "      <td>1.554348</td>\n",
              "      <td>0.707609</td>\n",
              "      <td>0.531522</td>\n",
              "      <td>100166.398853</td>\n",
              "    </tr>\n",
              "    <tr>\n",
              "      <th>std</th>\n",
              "      <td>10.722776</td>\n",
              "      <td>3.446675</td>\n",
              "      <td>8.205039</td>\n",
              "      <td>2.877756</td>\n",
              "      <td>3.468336</td>\n",
              "      <td>8.081591</td>\n",
              "      <td>96.329207</td>\n",
              "      <td>62614.929825</td>\n",
              "      <td>0.602950</td>\n",
              "      <td>0.454985</td>\n",
              "      <td>0.499141</td>\n",
              "      <td>58071.421408</td>\n",
              "    </tr>\n",
              "    <tr>\n",
              "      <th>min</th>\n",
              "      <td>1937.000000</td>\n",
              "      <td>1.000000</td>\n",
              "      <td>1.000000</td>\n",
              "      <td>2008.000000</td>\n",
              "      <td>1.000000</td>\n",
              "      <td>1.000000</td>\n",
              "      <td>363.000000</td>\n",
              "      <td>0.000000</td>\n",
              "      <td>1.000000</td>\n",
              "      <td>0.000000</td>\n",
              "      <td>0.000000</td>\n",
              "      <td>106.670000</td>\n",
              "    </tr>\n",
              "    <tr>\n",
              "      <th>25%</th>\n",
              "      <td>1974.000000</td>\n",
              "      <td>4.000000</td>\n",
              "      <td>7.750000</td>\n",
              "      <td>2011.000000</td>\n",
              "      <td>4.000000</td>\n",
              "      <td>8.000000</td>\n",
              "      <td>584.000000</td>\n",
              "      <td>0.000000</td>\n",
              "      <td>1.000000</td>\n",
              "      <td>0.000000</td>\n",
              "      <td>0.000000</td>\n",
              "      <td>50050.127500</td>\n",
              "    </tr>\n",
              "    <tr>\n",
              "      <th>50%</th>\n",
              "      <td>1981.000000</td>\n",
              "      <td>6.000000</td>\n",
              "      <td>15.000000</td>\n",
              "      <td>2013.000000</td>\n",
              "      <td>7.000000</td>\n",
              "      <td>15.000000</td>\n",
              "      <td>651.000000</td>\n",
              "      <td>97372.095000</td>\n",
              "      <td>2.000000</td>\n",
              "      <td>1.000000</td>\n",
              "      <td>1.000000</td>\n",
              "      <td>100766.915000</td>\n",
              "    </tr>\n",
              "    <tr>\n",
              "      <th>75%</th>\n",
              "      <td>1986.000000</td>\n",
              "      <td>9.000000</td>\n",
              "      <td>22.000000</td>\n",
              "      <td>2016.000000</td>\n",
              "      <td>9.000000</td>\n",
              "      <td>22.000000</td>\n",
              "      <td>718.000000</td>\n",
              "      <td>127735.702500</td>\n",
              "      <td>2.000000</td>\n",
              "      <td>1.000000</td>\n",
              "      <td>1.000000</td>\n",
              "      <td>149760.675000</td>\n",
              "    </tr>\n",
              "    <tr>\n",
              "      <th>max</th>\n",
              "      <td>2000.000000</td>\n",
              "      <td>12.000000</td>\n",
              "      <td>28.000000</td>\n",
              "      <td>2018.000000</td>\n",
              "      <td>12.000000</td>\n",
              "      <td>28.000000</td>\n",
              "      <td>850.000000</td>\n",
              "      <td>205770.780000</td>\n",
              "      <td>4.000000</td>\n",
              "      <td>1.000000</td>\n",
              "      <td>1.000000</td>\n",
              "      <td>199953.330000</td>\n",
              "    </tr>\n",
              "  </tbody>\n",
              "</table>\n",
              "</div>"
            ],
            "text/plain": [
              "       yearofBirth  monthofBirth  ...  ActiveMember         Salary\n",
              "count  1840.000000   1840.000000  ...   1840.000000    1840.000000\n",
              "mean   1979.079348      6.428261  ...      0.531522  100166.398853\n",
              "std      10.722776      3.446675  ...      0.499141   58071.421408\n",
              "min    1937.000000      1.000000  ...      0.000000     106.670000\n",
              "25%    1974.000000      4.000000  ...      0.000000   50050.127500\n",
              "50%    1981.000000      6.000000  ...      1.000000  100766.915000\n",
              "75%    1986.000000      9.000000  ...      1.000000  149760.675000\n",
              "max    2000.000000     12.000000  ...      1.000000  199953.330000\n",
              "\n",
              "[8 rows x 12 columns]"
            ]
          },
          "metadata": {},
          "execution_count": 14
        }
      ]
    },
    {
      "cell_type": "code",
      "metadata": {
        "colab": {
          "base_uri": "https://localhost:8080/"
        },
        "id": "RUYQoY3Pv1-g",
        "outputId": "853e3f1c-08c8-42d4-e39e-61774c14bf1b"
      },
      "source": [
        "##checking null values\n",
        "churn_train.isnull().sum()"
      ],
      "execution_count": 15,
      "outputs": [
        {
          "output_type": "execute_result",
          "data": {
            "text/plain": [
              "CustomerID              0\n",
              "CustomerName            0\n",
              "yearofBirth             0\n",
              "monthofBirth            0\n",
              "dayofBirth              0\n",
              "yearofEntry             0\n",
              "monthofEntry            0\n",
              "dayofEntry              0\n",
              "Gender                  0\n",
              "Location                0\n",
              "Education               0\n",
              "MaritalStatus           0\n",
              "Occupation              0\n",
              "Ownhouse                0\n",
              "CreditScore             0\n",
              "AccountBalance          0\n",
              "NumberOfProducts        0\n",
              "IsCreditCardCustomer    0\n",
              "ActiveMember            0\n",
              "Salary                  0\n",
              "Churn                   0\n",
              "dtype: int64"
            ]
          },
          "metadata": {},
          "execution_count": 15
        }
      ]
    },
    {
      "cell_type": "code",
      "metadata": {
        "colab": {
          "base_uri": "https://localhost:8080/"
        },
        "id": "SktNmArBv1-h",
        "outputId": "77e094a6-1acc-4c08-89e4-1e833b6a7d50"
      },
      "source": [
        "churn_test.isnull().sum()"
      ],
      "execution_count": 16,
      "outputs": [
        {
          "output_type": "execute_result",
          "data": {
            "text/plain": [
              "CustomerID              0\n",
              "CustomerName            0\n",
              "yearofBirth             0\n",
              "monthofBirth            0\n",
              "dayofBirth              0\n",
              "yearofEntry             0\n",
              "monthofEntry            0\n",
              "dayofEntry              0\n",
              "Gender                  0\n",
              "Location                0\n",
              "Education               0\n",
              "MaritalStatus           0\n",
              "Occupation              0\n",
              "Ownhouse                0\n",
              "CreditScore             0\n",
              "AccountBalance          0\n",
              "NumberOfProducts        0\n",
              "IsCreditCardCustomer    0\n",
              "ActiveMember            0\n",
              "Salary                  0\n",
              "dtype: int64"
            ]
          },
          "metadata": {},
          "execution_count": 16
        }
      ]
    },
    {
      "cell_type": "code",
      "metadata": {
        "colab": {
          "base_uri": "https://localhost:8080/",
          "height": 696
        },
        "id": "1YpsWguLv1-h",
        "outputId": "dd77f317-a42c-417c-d402-01db6326eac7"
      },
      "source": [
        "##checking the datatypes,number of levels of the data\n",
        "def inspect_data(data):\n",
        "    return pd.DataFrame({\"Data Type\":data.dtypes,\"No of Levels\":data.apply(lambda x: x.nunique(),axis=0), \"Levels\":data.apply(lambda x: str(x.unique()),axis=0)})\n",
        "inspect_data(churn_train)"
      ],
      "execution_count": 17,
      "outputs": [
        {
          "output_type": "execute_result",
          "data": {
            "text/html": [
              "<div>\n",
              "<style scoped>\n",
              "    .dataframe tbody tr th:only-of-type {\n",
              "        vertical-align: middle;\n",
              "    }\n",
              "\n",
              "    .dataframe tbody tr th {\n",
              "        vertical-align: top;\n",
              "    }\n",
              "\n",
              "    .dataframe thead th {\n",
              "        text-align: right;\n",
              "    }\n",
              "</style>\n",
              "<table border=\"1\" class=\"dataframe\">\n",
              "  <thead>\n",
              "    <tr style=\"text-align: right;\">\n",
              "      <th></th>\n",
              "      <th>Data Type</th>\n",
              "      <th>No of Levels</th>\n",
              "      <th>Levels</th>\n",
              "    </tr>\n",
              "  </thead>\n",
              "  <tbody>\n",
              "    <tr>\n",
              "      <th>CustomerID</th>\n",
              "      <td>object</td>\n",
              "      <td>7360</td>\n",
              "      <td>['C5814651' 'C6465787' 'C3824349' ... 'C616760...</td>\n",
              "    </tr>\n",
              "    <tr>\n",
              "      <th>CustomerName</th>\n",
              "      <td>object</td>\n",
              "      <td>7360</td>\n",
              "      <td>['Name_5814651' 'Name_6465787' 'Name_3824349' ...</td>\n",
              "    </tr>\n",
              "    <tr>\n",
              "      <th>yearofBirth</th>\n",
              "      <td>int64</td>\n",
              "      <td>70</td>\n",
              "      <td>[1980 1986 1999 1969 1993 1973 1985 1976 1987 ...</td>\n",
              "    </tr>\n",
              "    <tr>\n",
              "      <th>monthofBirth</th>\n",
              "      <td>int64</td>\n",
              "      <td>12</td>\n",
              "      <td>[ 5 12 11  4  6  1  2  3  8  7 10  9]</td>\n",
              "    </tr>\n",
              "    <tr>\n",
              "      <th>dayofBirth</th>\n",
              "      <td>int64</td>\n",
              "      <td>28</td>\n",
              "      <td>[12 28 23  6 15 18 26  4  8 14  2 19 13 24 16 ...</td>\n",
              "    </tr>\n",
              "    <tr>\n",
              "      <th>yearofEntry</th>\n",
              "      <td>int64</td>\n",
              "      <td>11</td>\n",
              "      <td>[2014 2011 2013 2015 2012 2010 2009 2017 2016 ...</td>\n",
              "    </tr>\n",
              "    <tr>\n",
              "      <th>monthofEntry</th>\n",
              "      <td>int64</td>\n",
              "      <td>12</td>\n",
              "      <td>[11  8 12 10  2  4  3  9  7  5  6  1]</td>\n",
              "    </tr>\n",
              "    <tr>\n",
              "      <th>dayofEntry</th>\n",
              "      <td>int64</td>\n",
              "      <td>28</td>\n",
              "      <td>[28 17  9 12 10  4  3 14 24 18 21  6 15 13 19 ...</td>\n",
              "    </tr>\n",
              "    <tr>\n",
              "      <th>Gender</th>\n",
              "      <td>object</td>\n",
              "      <td>2</td>\n",
              "      <td>['Male' 'Female']</td>\n",
              "    </tr>\n",
              "    <tr>\n",
              "      <th>Location</th>\n",
              "      <td>object</td>\n",
              "      <td>3</td>\n",
              "      <td>['Location11' 'Location13' 'Location12']</td>\n",
              "    </tr>\n",
              "    <tr>\n",
              "      <th>Education</th>\n",
              "      <td>object</td>\n",
              "      <td>4</td>\n",
              "      <td>['primary' 'secondary' 'tertiary' 'unknown']</td>\n",
              "    </tr>\n",
              "    <tr>\n",
              "      <th>MaritalStatus</th>\n",
              "      <td>object</td>\n",
              "      <td>3</td>\n",
              "      <td>['divorced' 'married' 'single']</td>\n",
              "    </tr>\n",
              "    <tr>\n",
              "      <th>Occupation</th>\n",
              "      <td>object</td>\n",
              "      <td>7</td>\n",
              "      <td>['management' 'admin.' 'unknown' 'self-employe...</td>\n",
              "    </tr>\n",
              "    <tr>\n",
              "      <th>Ownhouse</th>\n",
              "      <td>object</td>\n",
              "      <td>3</td>\n",
              "      <td>['no' 'unknown' 'yes']</td>\n",
              "    </tr>\n",
              "    <tr>\n",
              "      <th>CreditScore</th>\n",
              "      <td>int64</td>\n",
              "      <td>449</td>\n",
              "      <td>[716 568 739 678 670 663 667 492 468 584 631 8...</td>\n",
              "    </tr>\n",
              "    <tr>\n",
              "      <th>AccountBalance</th>\n",
              "      <td>float64</td>\n",
              "      <td>4706</td>\n",
              "      <td>[     0.   169399.6   89750.21 ... 129499.42  ...</td>\n",
              "    </tr>\n",
              "    <tr>\n",
              "      <th>NumberOfProducts</th>\n",
              "      <td>int64</td>\n",
              "      <td>4</td>\n",
              "      <td>[2 1 3 4]</td>\n",
              "    </tr>\n",
              "    <tr>\n",
              "      <th>IsCreditCardCustomer</th>\n",
              "      <td>int64</td>\n",
              "      <td>2</td>\n",
              "      <td>[1 0]</td>\n",
              "    </tr>\n",
              "    <tr>\n",
              "      <th>ActiveMember</th>\n",
              "      <td>int64</td>\n",
              "      <td>2</td>\n",
              "      <td>[0 1]</td>\n",
              "    </tr>\n",
              "    <tr>\n",
              "      <th>Salary</th>\n",
              "      <td>float64</td>\n",
              "      <td>7359</td>\n",
              "      <td>[189678.7   61936.22 193008.52 ...  83643.87 1...</td>\n",
              "    </tr>\n",
              "    <tr>\n",
              "      <th>Churn</th>\n",
              "      <td>object</td>\n",
              "      <td>2</td>\n",
              "      <td>['No' 'Yes']</td>\n",
              "    </tr>\n",
              "  </tbody>\n",
              "</table>\n",
              "</div>"
            ],
            "text/plain": [
              "                     Data Type  ...                                             Levels\n",
              "CustomerID              object  ...  ['C5814651' 'C6465787' 'C3824349' ... 'C616760...\n",
              "CustomerName            object  ...  ['Name_5814651' 'Name_6465787' 'Name_3824349' ...\n",
              "yearofBirth              int64  ...  [1980 1986 1999 1969 1993 1973 1985 1976 1987 ...\n",
              "monthofBirth             int64  ...              [ 5 12 11  4  6  1  2  3  8  7 10  9]\n",
              "dayofBirth               int64  ...  [12 28 23  6 15 18 26  4  8 14  2 19 13 24 16 ...\n",
              "yearofEntry              int64  ...  [2014 2011 2013 2015 2012 2010 2009 2017 2016 ...\n",
              "monthofEntry             int64  ...              [11  8 12 10  2  4  3  9  7  5  6  1]\n",
              "dayofEntry               int64  ...  [28 17  9 12 10  4  3 14 24 18 21  6 15 13 19 ...\n",
              "Gender                  object  ...                                  ['Male' 'Female']\n",
              "Location                object  ...           ['Location11' 'Location13' 'Location12']\n",
              "Education               object  ...       ['primary' 'secondary' 'tertiary' 'unknown']\n",
              "MaritalStatus           object  ...                    ['divorced' 'married' 'single']\n",
              "Occupation              object  ...  ['management' 'admin.' 'unknown' 'self-employe...\n",
              "Ownhouse                object  ...                             ['no' 'unknown' 'yes']\n",
              "CreditScore              int64  ...  [716 568 739 678 670 663 667 492 468 584 631 8...\n",
              "AccountBalance         float64  ...  [     0.   169399.6   89750.21 ... 129499.42  ...\n",
              "NumberOfProducts         int64  ...                                          [2 1 3 4]\n",
              "IsCreditCardCustomer     int64  ...                                              [1 0]\n",
              "ActiveMember             int64  ...                                              [0 1]\n",
              "Salary                 float64  ...  [189678.7   61936.22 193008.52 ...  83643.87 1...\n",
              "Churn                   object  ...                                       ['No' 'Yes']\n",
              "\n",
              "[21 rows x 3 columns]"
            ]
          },
          "metadata": {},
          "execution_count": 17
        }
      ]
    },
    {
      "cell_type": "code",
      "metadata": {
        "colab": {
          "base_uri": "https://localhost:8080/",
          "height": 665
        },
        "id": "Wslxy_rDv1-h",
        "outputId": "df3de49d-5165-4d09-aab4-f271bfa760b7"
      },
      "source": [
        "def inspect_data(data):\n",
        "    return pd.DataFrame({\"Data Type\":data.dtypes,\"No of Levels\":data.apply(lambda x: x.nunique(),axis=0), \"Levels\":data.apply(lambda x: str(x.unique()),axis=0)})\n",
        "inspect_data(churn_test)"
      ],
      "execution_count": 18,
      "outputs": [
        {
          "output_type": "execute_result",
          "data": {
            "text/html": [
              "<div>\n",
              "<style scoped>\n",
              "    .dataframe tbody tr th:only-of-type {\n",
              "        vertical-align: middle;\n",
              "    }\n",
              "\n",
              "    .dataframe tbody tr th {\n",
              "        vertical-align: top;\n",
              "    }\n",
              "\n",
              "    .dataframe thead th {\n",
              "        text-align: right;\n",
              "    }\n",
              "</style>\n",
              "<table border=\"1\" class=\"dataframe\">\n",
              "  <thead>\n",
              "    <tr style=\"text-align: right;\">\n",
              "      <th></th>\n",
              "      <th>Data Type</th>\n",
              "      <th>No of Levels</th>\n",
              "      <th>Levels</th>\n",
              "    </tr>\n",
              "  </thead>\n",
              "  <tbody>\n",
              "    <tr>\n",
              "      <th>CustomerID</th>\n",
              "      <td>object</td>\n",
              "      <td>1840</td>\n",
              "      <td>['C5993228' 'C6546925' 'C7491750' ... 'C240993...</td>\n",
              "    </tr>\n",
              "    <tr>\n",
              "      <th>CustomerName</th>\n",
              "      <td>object</td>\n",
              "      <td>1840</td>\n",
              "      <td>['Name_5993228' 'Name_6546925' 'Name_7491750' ...</td>\n",
              "    </tr>\n",
              "    <tr>\n",
              "      <th>yearofBirth</th>\n",
              "      <td>int64</td>\n",
              "      <td>62</td>\n",
              "      <td>[1972 1990 1966 1983 1988 1982 1968 1986 1989 ...</td>\n",
              "    </tr>\n",
              "    <tr>\n",
              "      <th>monthofBirth</th>\n",
              "      <td>int64</td>\n",
              "      <td>12</td>\n",
              "      <td>[ 5 12  7  8  9  4 11  3  2  1  6 10]</td>\n",
              "    </tr>\n",
              "    <tr>\n",
              "      <th>dayofBirth</th>\n",
              "      <td>int64</td>\n",
              "      <td>28</td>\n",
              "      <td>[ 5 27 25  7  9 12  6 22  4 17 24 28 19 20  8 ...</td>\n",
              "    </tr>\n",
              "    <tr>\n",
              "      <th>yearofEntry</th>\n",
              "      <td>int64</td>\n",
              "      <td>11</td>\n",
              "      <td>[2015 2016 2011 2009 2014 2013 2017 2012 2008 ...</td>\n",
              "    </tr>\n",
              "    <tr>\n",
              "      <th>monthofEntry</th>\n",
              "      <td>int64</td>\n",
              "      <td>12</td>\n",
              "      <td>[12 11 10  7  5  8  9  4  3  1  2  6]</td>\n",
              "    </tr>\n",
              "    <tr>\n",
              "      <th>dayofEntry</th>\n",
              "      <td>int64</td>\n",
              "      <td>28</td>\n",
              "      <td>[16 26 24  9 15 13  8 23 14 25 10  4 27 28 18 ...</td>\n",
              "    </tr>\n",
              "    <tr>\n",
              "      <th>Gender</th>\n",
              "      <td>object</td>\n",
              "      <td>2</td>\n",
              "      <td>['Male' 'Female']</td>\n",
              "    </tr>\n",
              "    <tr>\n",
              "      <th>Location</th>\n",
              "      <td>object</td>\n",
              "      <td>3</td>\n",
              "      <td>['Location13' 'Location11' 'Location12']</td>\n",
              "    </tr>\n",
              "    <tr>\n",
              "      <th>Education</th>\n",
              "      <td>object</td>\n",
              "      <td>4</td>\n",
              "      <td>['unknown' 'primary' 'secondary' 'tertiary']</td>\n",
              "    </tr>\n",
              "    <tr>\n",
              "      <th>MaritalStatus</th>\n",
              "      <td>object</td>\n",
              "      <td>3</td>\n",
              "      <td>['single' 'married' 'divorced']</td>\n",
              "    </tr>\n",
              "    <tr>\n",
              "      <th>Occupation</th>\n",
              "      <td>object</td>\n",
              "      <td>7</td>\n",
              "      <td>['management' 'admin.' 'unknown' 'technician' ...</td>\n",
              "    </tr>\n",
              "    <tr>\n",
              "      <th>Ownhouse</th>\n",
              "      <td>object</td>\n",
              "      <td>3</td>\n",
              "      <td>['yes' 'no' 'unknown']</td>\n",
              "    </tr>\n",
              "    <tr>\n",
              "      <th>CreditScore</th>\n",
              "      <td>int64</td>\n",
              "      <td>403</td>\n",
              "      <td>[624 777 707 746 762 682 610 500 662 813 671 6...</td>\n",
              "    </tr>\n",
              "    <tr>\n",
              "      <th>AccountBalance</th>\n",
              "      <td>float64</td>\n",
              "      <td>1153</td>\n",
              "      <td>[     0.   134571.5  172274.01 ... 137688.71 1...</td>\n",
              "    </tr>\n",
              "    <tr>\n",
              "      <th>NumberOfProducts</th>\n",
              "      <td>int64</td>\n",
              "      <td>4</td>\n",
              "      <td>[2 1 4 3]</td>\n",
              "    </tr>\n",
              "    <tr>\n",
              "      <th>IsCreditCardCustomer</th>\n",
              "      <td>int64</td>\n",
              "      <td>2</td>\n",
              "      <td>[1 0]</td>\n",
              "    </tr>\n",
              "    <tr>\n",
              "      <th>ActiveMember</th>\n",
              "      <td>int64</td>\n",
              "      <td>2</td>\n",
              "      <td>[1 0]</td>\n",
              "    </tr>\n",
              "    <tr>\n",
              "      <th>Salary</th>\n",
              "      <td>float64</td>\n",
              "      <td>1840</td>\n",
              "      <td>[ 62825.03 118313.38 109688.82 ... 163181.62 1...</td>\n",
              "    </tr>\n",
              "  </tbody>\n",
              "</table>\n",
              "</div>"
            ],
            "text/plain": [
              "                     Data Type  ...                                             Levels\n",
              "CustomerID              object  ...  ['C5993228' 'C6546925' 'C7491750' ... 'C240993...\n",
              "CustomerName            object  ...  ['Name_5993228' 'Name_6546925' 'Name_7491750' ...\n",
              "yearofBirth              int64  ...  [1972 1990 1966 1983 1988 1982 1968 1986 1989 ...\n",
              "monthofBirth             int64  ...              [ 5 12  7  8  9  4 11  3  2  1  6 10]\n",
              "dayofBirth               int64  ...  [ 5 27 25  7  9 12  6 22  4 17 24 28 19 20  8 ...\n",
              "yearofEntry              int64  ...  [2015 2016 2011 2009 2014 2013 2017 2012 2008 ...\n",
              "monthofEntry             int64  ...              [12 11 10  7  5  8  9  4  3  1  2  6]\n",
              "dayofEntry               int64  ...  [16 26 24  9 15 13  8 23 14 25 10  4 27 28 18 ...\n",
              "Gender                  object  ...                                  ['Male' 'Female']\n",
              "Location                object  ...           ['Location13' 'Location11' 'Location12']\n",
              "Education               object  ...       ['unknown' 'primary' 'secondary' 'tertiary']\n",
              "MaritalStatus           object  ...                    ['single' 'married' 'divorced']\n",
              "Occupation              object  ...  ['management' 'admin.' 'unknown' 'technician' ...\n",
              "Ownhouse                object  ...                             ['yes' 'no' 'unknown']\n",
              "CreditScore              int64  ...  [624 777 707 746 762 682 610 500 662 813 671 6...\n",
              "AccountBalance         float64  ...  [     0.   134571.5  172274.01 ... 137688.71 1...\n",
              "NumberOfProducts         int64  ...                                          [2 1 4 3]\n",
              "IsCreditCardCustomer     int64  ...                                              [1 0]\n",
              "ActiveMember             int64  ...                                              [1 0]\n",
              "Salary                 float64  ...  [ 62825.03 118313.38 109688.82 ... 163181.62 1...\n",
              "\n",
              "[20 rows x 3 columns]"
            ]
          },
          "metadata": {},
          "execution_count": 18
        }
      ]
    },
    {
      "cell_type": "code",
      "metadata": {
        "id": "_8jnc6R8v1-i"
      },
      "source": [
        ""
      ],
      "execution_count": 18,
      "outputs": []
    },
    {
      "cell_type": "code",
      "metadata": {
        "colab": {
          "base_uri": "https://localhost:8080/"
        },
        "id": "p8Mcep2Hv1-i",
        "outputId": "6cdd4a71-8cab-4878-eddd-2e5277684782"
      },
      "source": [
        "##conversion of year,month,day of birth into age:\n",
        "import datetime as dt\n",
        "churn_train['dateofBirth']=churn_train['yearofBirth'].map(str)+\"-\"+churn_train['monthofBirth'].map(str)+\"-\"+churn_train['dayofBirth'].map(str)\n",
        "churn_train['dateofBirth']=pd.to_datetime(churn_train['dateofBirth']).dt.date\n",
        "age = pd.datetime.now().date() - churn_train['dateofBirth']\n",
        "churn_train['age'] = (pd.DataFrame(age) / np.timedelta64(1, 'D'))/365\n",
        "churn_train['age'].describe()"
      ],
      "execution_count": 19,
      "outputs": [
        {
          "output_type": "stream",
          "name": "stderr",
          "text": [
            "/usr/local/lib/python3.7/dist-packages/ipykernel_launcher.py:5: FutureWarning: The pandas.datetime class is deprecated and will be removed from pandas in a future version. Import from datetime module instead.\n",
            "  \"\"\"\n"
          ]
        },
        {
          "output_type": "execute_result",
          "data": {
            "text/plain": [
              "count    7360.000000\n",
              "mean       42.207735\n",
              "std        10.477371\n",
              "min        20.808219\n",
              "25%        35.088356\n",
              "50%        40.623288\n",
              "75%        47.013014\n",
              "max        95.438356\n",
              "Name: age, dtype: float64"
            ]
          },
          "metadata": {},
          "execution_count": 19
        }
      ]
    },
    {
      "cell_type": "code",
      "metadata": {
        "colab": {
          "base_uri": "https://localhost:8080/"
        },
        "id": "lSvAal--v1-i",
        "outputId": "fe5c36f1-0ffa-43d3-9edf-99bafaf2fe6c"
      },
      "source": [
        "####conversion of year,month,day of entry into duration:\n",
        "import datetime as dt\n",
        "churn_train['dateofEntry']=churn_train['yearofEntry'].map(str)+\"-\"+churn_train['monthofEntry'].map(str)+\"-\"+churn_train['dayofEntry'].map(str)\n",
        "churn_train['dateofEntry']=pd.to_datetime(churn_train['dateofEntry']).dt.date\n",
        "duration = pd.datetime.now().date() - churn_train['dateofEntry']\n",
        "churn_train['duration'] = (pd.DataFrame(duration) / np.timedelta64(1, 'D'))/365\n",
        "churn_train['duration'].describe()"
      ],
      "execution_count": 20,
      "outputs": [
        {
          "output_type": "stream",
          "name": "stderr",
          "text": [
            "/usr/local/lib/python3.7/dist-packages/ipykernel_launcher.py:5: FutureWarning: The pandas.datetime class is deprecated and will be removed from pandas in a future version. Import from datetime module instead.\n",
            "  \"\"\"\n"
          ]
        },
        {
          "output_type": "execute_result",
          "data": {
            "text/plain": [
              "count    7360.000000\n",
              "mean        8.264101\n",
              "std         2.917049\n",
              "min         2.747945\n",
              "25%         5.747945\n",
              "50%         8.279452\n",
              "75%        10.758904\n",
              "max        13.745205\n",
              "Name: duration, dtype: float64"
            ]
          },
          "metadata": {},
          "execution_count": 20
        }
      ]
    },
    {
      "cell_type": "code",
      "metadata": {
        "colab": {
          "base_uri": "https://localhost:8080/"
        },
        "id": "1_lip76sv1-j",
        "outputId": "cc35f711-5b6e-474f-ce95-dca42e767986"
      },
      "source": [
        "##conversion of year,month,day of birth into age:\n",
        "import datetime as dt\n",
        "churn_test['dateofBirth']=churn_test['yearofBirth'].map(str)+\"-\"+churn_test['monthofBirth'].map(str)+\"-\"+churn_test['dayofBirth'].map(str)\n",
        "churn_test['dateofBirth']=pd.to_datetime(churn_test['dateofBirth']).dt.date\n",
        "age = pd.datetime.now().date() - churn_test['dateofBirth']\n",
        "churn_test['age'] = (pd.DataFrame(age) / np.timedelta64(1, 'D'))/365\n",
        "churn_test['age'].describe()"
      ],
      "execution_count": 21,
      "outputs": [
        {
          "output_type": "stream",
          "name": "stderr",
          "text": [
            "/usr/local/lib/python3.7/dist-packages/ipykernel_launcher.py:5: FutureWarning: The pandas.datetime class is deprecated and will be removed from pandas in a future version. Import from datetime module instead.\n",
            "  \"\"\"\n"
          ]
        },
        {
          "output_type": "execute_result",
          "data": {
            "text/plain": [
              "count    1840.000000\n",
              "mean       42.196480\n",
              "std        10.747493\n",
              "min        20.800000\n",
              "25%        35.042466\n",
              "50%        40.345205\n",
              "75%        47.599315\n",
              "max        84.526027\n",
              "Name: age, dtype: float64"
            ]
          },
          "metadata": {},
          "execution_count": 21
        }
      ]
    },
    {
      "cell_type": "code",
      "metadata": {
        "colab": {
          "base_uri": "https://localhost:8080/"
        },
        "id": "iM1iPyiMv1-j",
        "outputId": "ecb32fb5-d05f-438b-c955-ae67b616ad00"
      },
      "source": [
        "####conversion of year,month,day of entry into duration:\n",
        "import datetime as dt\n",
        "churn_test['dateofEntry']=churn_test['yearofEntry'].map(str)+\"-\"+churn_test['monthofEntry'].map(str)+\"-\"+churn_test['dayofEntry'].map(str)\n",
        "churn_test['dateofEntry']=pd.to_datetime(churn_test['dateofEntry']).dt.date\n",
        "duration = pd.datetime.now().date() - churn_test['dateofEntry']\n",
        "churn_test['duration'] = (pd.DataFrame(duration) / np.timedelta64(1, 'D'))/365\n",
        "churn_test['duration'].describe()"
      ],
      "execution_count": 22,
      "outputs": [
        {
          "output_type": "stream",
          "name": "stderr",
          "text": [
            "/usr/local/lib/python3.7/dist-packages/ipykernel_launcher.py:5: FutureWarning: The pandas.datetime class is deprecated and will be removed from pandas in a future version. Import from datetime module instead.\n",
            "  \"\"\"\n"
          ]
        },
        {
          "output_type": "execute_result",
          "data": {
            "text/plain": [
              "count    1840.000000\n",
              "mean        8.179409\n",
              "std         2.889744\n",
              "min         2.772603\n",
              "25%         5.669863\n",
              "50%         8.145205\n",
              "75%        10.613699\n",
              "max        13.734247\n",
              "Name: duration, dtype: float64"
            ]
          },
          "metadata": {},
          "execution_count": 22
        }
      ]
    },
    {
      "cell_type": "code",
      "metadata": {
        "colab": {
          "base_uri": "https://localhost:8080/",
          "height": 223
        },
        "id": "RkUi79PWv1-k",
        "outputId": "c50b6c62-1509-4b4b-cd47-334116183cc2"
      },
      "source": [
        "churn_train.head()"
      ],
      "execution_count": 23,
      "outputs": [
        {
          "output_type": "execute_result",
          "data": {
            "text/html": [
              "<div>\n",
              "<style scoped>\n",
              "    .dataframe tbody tr th:only-of-type {\n",
              "        vertical-align: middle;\n",
              "    }\n",
              "\n",
              "    .dataframe tbody tr th {\n",
              "        vertical-align: top;\n",
              "    }\n",
              "\n",
              "    .dataframe thead th {\n",
              "        text-align: right;\n",
              "    }\n",
              "</style>\n",
              "<table border=\"1\" class=\"dataframe\">\n",
              "  <thead>\n",
              "    <tr style=\"text-align: right;\">\n",
              "      <th></th>\n",
              "      <th>CustomerID</th>\n",
              "      <th>CustomerName</th>\n",
              "      <th>yearofBirth</th>\n",
              "      <th>monthofBirth</th>\n",
              "      <th>dayofBirth</th>\n",
              "      <th>yearofEntry</th>\n",
              "      <th>monthofEntry</th>\n",
              "      <th>dayofEntry</th>\n",
              "      <th>Gender</th>\n",
              "      <th>Location</th>\n",
              "      <th>Education</th>\n",
              "      <th>MaritalStatus</th>\n",
              "      <th>Occupation</th>\n",
              "      <th>Ownhouse</th>\n",
              "      <th>CreditScore</th>\n",
              "      <th>AccountBalance</th>\n",
              "      <th>NumberOfProducts</th>\n",
              "      <th>IsCreditCardCustomer</th>\n",
              "      <th>ActiveMember</th>\n",
              "      <th>Salary</th>\n",
              "      <th>Churn</th>\n",
              "      <th>dateofBirth</th>\n",
              "      <th>age</th>\n",
              "      <th>dateofEntry</th>\n",
              "      <th>duration</th>\n",
              "    </tr>\n",
              "  </thead>\n",
              "  <tbody>\n",
              "    <tr>\n",
              "      <th>0</th>\n",
              "      <td>C5814651</td>\n",
              "      <td>Name_5814651</td>\n",
              "      <td>1980</td>\n",
              "      <td>5</td>\n",
              "      <td>12</td>\n",
              "      <td>2014</td>\n",
              "      <td>11</td>\n",
              "      <td>28</td>\n",
              "      <td>Male</td>\n",
              "      <td>Location11</td>\n",
              "      <td>primary</td>\n",
              "      <td>divorced</td>\n",
              "      <td>management</td>\n",
              "      <td>no</td>\n",
              "      <td>716</td>\n",
              "      <td>0.00</td>\n",
              "      <td>2</td>\n",
              "      <td>1</td>\n",
              "      <td>0</td>\n",
              "      <td>189678.70</td>\n",
              "      <td>No</td>\n",
              "      <td>1980-05-12</td>\n",
              "      <td>41.402740</td>\n",
              "      <td>2014-11-28</td>\n",
              "      <td>6.832877</td>\n",
              "    </tr>\n",
              "    <tr>\n",
              "      <th>1</th>\n",
              "      <td>C6465787</td>\n",
              "      <td>Name_6465787</td>\n",
              "      <td>1986</td>\n",
              "      <td>12</td>\n",
              "      <td>28</td>\n",
              "      <td>2011</td>\n",
              "      <td>8</td>\n",
              "      <td>17</td>\n",
              "      <td>Female</td>\n",
              "      <td>Location13</td>\n",
              "      <td>primary</td>\n",
              "      <td>divorced</td>\n",
              "      <td>admin.</td>\n",
              "      <td>no</td>\n",
              "      <td>568</td>\n",
              "      <td>169399.60</td>\n",
              "      <td>1</td>\n",
              "      <td>1</td>\n",
              "      <td>0</td>\n",
              "      <td>61936.22</td>\n",
              "      <td>No</td>\n",
              "      <td>1986-12-28</td>\n",
              "      <td>34.769863</td>\n",
              "      <td>2011-08-17</td>\n",
              "      <td>10.117808</td>\n",
              "    </tr>\n",
              "    <tr>\n",
              "      <th>2</th>\n",
              "      <td>C3824349</td>\n",
              "      <td>Name_3824349</td>\n",
              "      <td>1999</td>\n",
              "      <td>11</td>\n",
              "      <td>23</td>\n",
              "      <td>2013</td>\n",
              "      <td>12</td>\n",
              "      <td>9</td>\n",
              "      <td>Male</td>\n",
              "      <td>Location13</td>\n",
              "      <td>secondary</td>\n",
              "      <td>married</td>\n",
              "      <td>unknown</td>\n",
              "      <td>unknown</td>\n",
              "      <td>739</td>\n",
              "      <td>89750.21</td>\n",
              "      <td>1</td>\n",
              "      <td>1</td>\n",
              "      <td>0</td>\n",
              "      <td>193008.52</td>\n",
              "      <td>No</td>\n",
              "      <td>1999-11-23</td>\n",
              "      <td>21.857534</td>\n",
              "      <td>2013-12-09</td>\n",
              "      <td>7.802740</td>\n",
              "    </tr>\n",
              "    <tr>\n",
              "      <th>3</th>\n",
              "      <td>C8431888</td>\n",
              "      <td>Name_8431888</td>\n",
              "      <td>1969</td>\n",
              "      <td>4</td>\n",
              "      <td>6</td>\n",
              "      <td>2015</td>\n",
              "      <td>12</td>\n",
              "      <td>12</td>\n",
              "      <td>Female</td>\n",
              "      <td>Location11</td>\n",
              "      <td>tertiary</td>\n",
              "      <td>married</td>\n",
              "      <td>admin.</td>\n",
              "      <td>yes</td>\n",
              "      <td>678</td>\n",
              "      <td>204510.94</td>\n",
              "      <td>1</td>\n",
              "      <td>0</td>\n",
              "      <td>1</td>\n",
              "      <td>738.88</td>\n",
              "      <td>Yes</td>\n",
              "      <td>1969-04-06</td>\n",
              "      <td>52.509589</td>\n",
              "      <td>2015-12-12</td>\n",
              "      <td>5.794521</td>\n",
              "    </tr>\n",
              "    <tr>\n",
              "      <th>4</th>\n",
              "      <td>C2944860</td>\n",
              "      <td>Name_2944860</td>\n",
              "      <td>1993</td>\n",
              "      <td>6</td>\n",
              "      <td>15</td>\n",
              "      <td>2012</td>\n",
              "      <td>10</td>\n",
              "      <td>10</td>\n",
              "      <td>Male</td>\n",
              "      <td>Location13</td>\n",
              "      <td>tertiary</td>\n",
              "      <td>single</td>\n",
              "      <td>management</td>\n",
              "      <td>no</td>\n",
              "      <td>670</td>\n",
              "      <td>0.00</td>\n",
              "      <td>2</td>\n",
              "      <td>1</td>\n",
              "      <td>1</td>\n",
              "      <td>78358.94</td>\n",
              "      <td>No</td>\n",
              "      <td>1993-06-15</td>\n",
              "      <td>28.301370</td>\n",
              "      <td>2012-10-10</td>\n",
              "      <td>8.967123</td>\n",
              "    </tr>\n",
              "  </tbody>\n",
              "</table>\n",
              "</div>"
            ],
            "text/plain": [
              "  CustomerID  CustomerName  yearofBirth  ...        age  dateofEntry   duration\n",
              "0   C5814651  Name_5814651         1980  ...  41.402740   2014-11-28   6.832877\n",
              "1   C6465787  Name_6465787         1986  ...  34.769863   2011-08-17  10.117808\n",
              "2   C3824349  Name_3824349         1999  ...  21.857534   2013-12-09   7.802740\n",
              "3   C8431888  Name_8431888         1969  ...  52.509589   2015-12-12   5.794521\n",
              "4   C2944860  Name_2944860         1993  ...  28.301370   2012-10-10   8.967123\n",
              "\n",
              "[5 rows x 25 columns]"
            ]
          },
          "metadata": {},
          "execution_count": 23
        }
      ]
    },
    {
      "cell_type": "code",
      "metadata": {
        "colab": {
          "base_uri": "https://localhost:8080/",
          "height": 223
        },
        "id": "yLY9LdMAv1-k",
        "outputId": "b8d15994-e180-46bd-8de5-ee23d846b20a"
      },
      "source": [
        "churn_test.head()"
      ],
      "execution_count": 24,
      "outputs": [
        {
          "output_type": "execute_result",
          "data": {
            "text/html": [
              "<div>\n",
              "<style scoped>\n",
              "    .dataframe tbody tr th:only-of-type {\n",
              "        vertical-align: middle;\n",
              "    }\n",
              "\n",
              "    .dataframe tbody tr th {\n",
              "        vertical-align: top;\n",
              "    }\n",
              "\n",
              "    .dataframe thead th {\n",
              "        text-align: right;\n",
              "    }\n",
              "</style>\n",
              "<table border=\"1\" class=\"dataframe\">\n",
              "  <thead>\n",
              "    <tr style=\"text-align: right;\">\n",
              "      <th></th>\n",
              "      <th>CustomerID</th>\n",
              "      <th>CustomerName</th>\n",
              "      <th>yearofBirth</th>\n",
              "      <th>monthofBirth</th>\n",
              "      <th>dayofBirth</th>\n",
              "      <th>yearofEntry</th>\n",
              "      <th>monthofEntry</th>\n",
              "      <th>dayofEntry</th>\n",
              "      <th>Gender</th>\n",
              "      <th>Location</th>\n",
              "      <th>Education</th>\n",
              "      <th>MaritalStatus</th>\n",
              "      <th>Occupation</th>\n",
              "      <th>Ownhouse</th>\n",
              "      <th>CreditScore</th>\n",
              "      <th>AccountBalance</th>\n",
              "      <th>NumberOfProducts</th>\n",
              "      <th>IsCreditCardCustomer</th>\n",
              "      <th>ActiveMember</th>\n",
              "      <th>Salary</th>\n",
              "      <th>dateofBirth</th>\n",
              "      <th>age</th>\n",
              "      <th>dateofEntry</th>\n",
              "      <th>duration</th>\n",
              "    </tr>\n",
              "  </thead>\n",
              "  <tbody>\n",
              "    <tr>\n",
              "      <th>0</th>\n",
              "      <td>C5993228</td>\n",
              "      <td>Name_5993228</td>\n",
              "      <td>1972</td>\n",
              "      <td>5</td>\n",
              "      <td>5</td>\n",
              "      <td>2015</td>\n",
              "      <td>12</td>\n",
              "      <td>16</td>\n",
              "      <td>Male</td>\n",
              "      <td>Location13</td>\n",
              "      <td>unknown</td>\n",
              "      <td>single</td>\n",
              "      <td>management</td>\n",
              "      <td>yes</td>\n",
              "      <td>624</td>\n",
              "      <td>0.00</td>\n",
              "      <td>2</td>\n",
              "      <td>1</td>\n",
              "      <td>1</td>\n",
              "      <td>62825.03</td>\n",
              "      <td>1972-05-05</td>\n",
              "      <td>49.427397</td>\n",
              "      <td>2015-12-16</td>\n",
              "      <td>5.783562</td>\n",
              "    </tr>\n",
              "    <tr>\n",
              "      <th>1</th>\n",
              "      <td>C6546925</td>\n",
              "      <td>Name_6546925</td>\n",
              "      <td>1990</td>\n",
              "      <td>12</td>\n",
              "      <td>27</td>\n",
              "      <td>2016</td>\n",
              "      <td>11</td>\n",
              "      <td>26</td>\n",
              "      <td>Female</td>\n",
              "      <td>Location11</td>\n",
              "      <td>primary</td>\n",
              "      <td>married</td>\n",
              "      <td>admin.</td>\n",
              "      <td>yes</td>\n",
              "      <td>777</td>\n",
              "      <td>134571.50</td>\n",
              "      <td>1</td>\n",
              "      <td>0</td>\n",
              "      <td>1</td>\n",
              "      <td>118313.38</td>\n",
              "      <td>1990-12-27</td>\n",
              "      <td>30.769863</td>\n",
              "      <td>2016-11-26</td>\n",
              "      <td>4.835616</td>\n",
              "    </tr>\n",
              "    <tr>\n",
              "      <th>2</th>\n",
              "      <td>C7491750</td>\n",
              "      <td>Name_7491750</td>\n",
              "      <td>1966</td>\n",
              "      <td>7</td>\n",
              "      <td>25</td>\n",
              "      <td>2011</td>\n",
              "      <td>10</td>\n",
              "      <td>24</td>\n",
              "      <td>Female</td>\n",
              "      <td>Location13</td>\n",
              "      <td>primary</td>\n",
              "      <td>married</td>\n",
              "      <td>admin.</td>\n",
              "      <td>yes</td>\n",
              "      <td>707</td>\n",
              "      <td>0.00</td>\n",
              "      <td>1</td>\n",
              "      <td>1</td>\n",
              "      <td>0</td>\n",
              "      <td>109688.82</td>\n",
              "      <td>1966-07-25</td>\n",
              "      <td>55.210959</td>\n",
              "      <td>2011-10-24</td>\n",
              "      <td>9.931507</td>\n",
              "    </tr>\n",
              "    <tr>\n",
              "      <th>3</th>\n",
              "      <td>C8462011</td>\n",
              "      <td>Name_8462011</td>\n",
              "      <td>1983</td>\n",
              "      <td>7</td>\n",
              "      <td>7</td>\n",
              "      <td>2016</td>\n",
              "      <td>7</td>\n",
              "      <td>9</td>\n",
              "      <td>Male</td>\n",
              "      <td>Location11</td>\n",
              "      <td>secondary</td>\n",
              "      <td>divorced</td>\n",
              "      <td>management</td>\n",
              "      <td>no</td>\n",
              "      <td>746</td>\n",
              "      <td>172274.01</td>\n",
              "      <td>1</td>\n",
              "      <td>1</td>\n",
              "      <td>0</td>\n",
              "      <td>22374.97</td>\n",
              "      <td>1983-07-07</td>\n",
              "      <td>38.249315</td>\n",
              "      <td>2016-07-09</td>\n",
              "      <td>5.219178</td>\n",
              "    </tr>\n",
              "    <tr>\n",
              "      <th>4</th>\n",
              "      <td>C3187447</td>\n",
              "      <td>Name_3187447</td>\n",
              "      <td>1983</td>\n",
              "      <td>8</td>\n",
              "      <td>9</td>\n",
              "      <td>2009</td>\n",
              "      <td>5</td>\n",
              "      <td>15</td>\n",
              "      <td>Male</td>\n",
              "      <td>Location11</td>\n",
              "      <td>tertiary</td>\n",
              "      <td>divorced</td>\n",
              "      <td>management</td>\n",
              "      <td>no</td>\n",
              "      <td>762</td>\n",
              "      <td>0.00</td>\n",
              "      <td>2</td>\n",
              "      <td>1</td>\n",
              "      <td>1</td>\n",
              "      <td>43075.70</td>\n",
              "      <td>1983-08-09</td>\n",
              "      <td>38.158904</td>\n",
              "      <td>2009-05-15</td>\n",
              "      <td>12.375342</td>\n",
              "    </tr>\n",
              "  </tbody>\n",
              "</table>\n",
              "</div>"
            ],
            "text/plain": [
              "  CustomerID  CustomerName  yearofBirth  ...        age  dateofEntry   duration\n",
              "0   C5993228  Name_5993228         1972  ...  49.427397   2015-12-16   5.783562\n",
              "1   C6546925  Name_6546925         1990  ...  30.769863   2016-11-26   4.835616\n",
              "2   C7491750  Name_7491750         1966  ...  55.210959   2011-10-24   9.931507\n",
              "3   C8462011  Name_8462011         1983  ...  38.249315   2016-07-09   5.219178\n",
              "4   C3187447  Name_3187447         1983  ...  38.158904   2009-05-15  12.375342\n",
              "\n",
              "[5 rows x 24 columns]"
            ]
          },
          "metadata": {},
          "execution_count": 24
        }
      ]
    },
    {
      "cell_type": "code",
      "metadata": {
        "id": "hUq9-8x1v1-k"
      },
      "source": [
        "#drop unwanted columns\n",
        "churn_train=churn_train.drop([\"CustomerID\",\"CustomerName\",\"yearofBirth\",\"monthofBirth\",\"dayofBirth\",\"yearofEntry\",\"monthofEntry\",\"dayofEntry\",\"dateofBirth\",\"dateofEntry\"],axis=1)"
      ],
      "execution_count": 25,
      "outputs": []
    },
    {
      "cell_type": "code",
      "metadata": {
        "id": "DSaNjs3Av1-l"
      },
      "source": [
        "churn_test=churn_test.drop([\"CustomerID\",\"CustomerName\",\"yearofBirth\",\"monthofBirth\",\"dayofBirth\",\"yearofEntry\",\"monthofEntry\",\"dayofEntry\",\"dateofBirth\",\"dateofEntry\"],axis=1)"
      ],
      "execution_count": 26,
      "outputs": []
    },
    {
      "cell_type": "code",
      "metadata": {
        "id": "O6AorpHxv1-l"
      },
      "source": [
        "##datatype conversion\n",
        "cat_cols=[\"Gender\",\"Location\",\"Ownhouse\",\"Education\",\"MaritalStatus\",\"Occupation\",\"NumberOfProducts\",\"IsCreditCardCustomer\",\"ActiveMember\",\"Churn\"]\n",
        "num_cols=[\"age\",\"duration\",\"CreditScore\",\"AccountBalance\",\"Salary\"]"
      ],
      "execution_count": 27,
      "outputs": []
    },
    {
      "cell_type": "code",
      "metadata": {
        "id": "3-GcnBesv1-m"
      },
      "source": [
        "test_cat_cols=[\"Gender\",\"Location\",\"Education\",\"Ownhouse\",\"MaritalStatus\",\"Occupation\",\"NumberOfProducts\",\"IsCreditCardCustomer\",\"ActiveMember\"]\n",
        "test_num_cols=[\"age\",\"duration\",\"CreditScore\",\"AccountBalance\",\"Salary\"]"
      ],
      "execution_count": 28,
      "outputs": []
    },
    {
      "cell_type": "code",
      "metadata": {
        "colab": {
          "base_uri": "https://localhost:8080/"
        },
        "id": "ZhSuJC5cv1-m",
        "outputId": "9f956f29-33d1-403e-d106-90eea2a5a827"
      },
      "source": [
        "churn_train[cat_cols] = churn_train[cat_cols].apply(lambda x: x.astype('category'))\n",
        "churn_train[num_cols] = churn_train[num_cols].apply(lambda x: x.astype('float'))\n",
        "churn_train.dtypes"
      ],
      "execution_count": 29,
      "outputs": [
        {
          "output_type": "execute_result",
          "data": {
            "text/plain": [
              "Gender                  category\n",
              "Location                category\n",
              "Education               category\n",
              "MaritalStatus           category\n",
              "Occupation              category\n",
              "Ownhouse                category\n",
              "CreditScore              float64\n",
              "AccountBalance           float64\n",
              "NumberOfProducts        category\n",
              "IsCreditCardCustomer    category\n",
              "ActiveMember            category\n",
              "Salary                   float64\n",
              "Churn                   category\n",
              "age                      float64\n",
              "duration                 float64\n",
              "dtype: object"
            ]
          },
          "metadata": {},
          "execution_count": 29
        }
      ]
    },
    {
      "cell_type": "markdown",
      "metadata": {
        "id": "AlUBYOvUv1-n"
      },
      "source": [
        "**Binning**"
      ]
    },
    {
      "cell_type": "code",
      "metadata": {
        "id": "aDWWY82Mv1-n"
      },
      "source": [
        "## Convert Categorical Columns to Dummies\n",
        "cat_cols=[\"Gender\",\"Location\",\"Ownhouse\",\"Education\",\"MaritalStatus\",\"Occupation\",\"NumberOfProducts\",\"IsCreditCardCustomer\",\"ActiveMember\",\"Churn\"]\n",
        "churn_train = pd.get_dummies(churn_train,columns=cat_cols,drop_first=True,)"
      ],
      "execution_count": 30,
      "outputs": []
    },
    {
      "cell_type": "code",
      "metadata": {
        "colab": {
          "base_uri": "https://localhost:8080/",
          "height": 240
        },
        "id": "QAH-keoTv1-n",
        "outputId": "02ace53a-5249-460c-ac63-3fa42d7ee398"
      },
      "source": [
        "churn_train.head()"
      ],
      "execution_count": 31,
      "outputs": [
        {
          "output_type": "execute_result",
          "data": {
            "text/html": [
              "<div>\n",
              "<style scoped>\n",
              "    .dataframe tbody tr th:only-of-type {\n",
              "        vertical-align: middle;\n",
              "    }\n",
              "\n",
              "    .dataframe tbody tr th {\n",
              "        vertical-align: top;\n",
              "    }\n",
              "\n",
              "    .dataframe thead th {\n",
              "        text-align: right;\n",
              "    }\n",
              "</style>\n",
              "<table border=\"1\" class=\"dataframe\">\n",
              "  <thead>\n",
              "    <tr style=\"text-align: right;\">\n",
              "      <th></th>\n",
              "      <th>CreditScore</th>\n",
              "      <th>AccountBalance</th>\n",
              "      <th>Salary</th>\n",
              "      <th>age</th>\n",
              "      <th>duration</th>\n",
              "      <th>Gender_Male</th>\n",
              "      <th>Location_Location12</th>\n",
              "      <th>Location_Location13</th>\n",
              "      <th>Ownhouse_unknown</th>\n",
              "      <th>Ownhouse_yes</th>\n",
              "      <th>Education_secondary</th>\n",
              "      <th>Education_tertiary</th>\n",
              "      <th>Education_unknown</th>\n",
              "      <th>MaritalStatus_married</th>\n",
              "      <th>MaritalStatus_single</th>\n",
              "      <th>Occupation_management</th>\n",
              "      <th>Occupation_retired</th>\n",
              "      <th>Occupation_self-employed</th>\n",
              "      <th>Occupation_services</th>\n",
              "      <th>Occupation_technician</th>\n",
              "      <th>Occupation_unknown</th>\n",
              "      <th>NumberOfProducts_2</th>\n",
              "      <th>NumberOfProducts_3</th>\n",
              "      <th>NumberOfProducts_4</th>\n",
              "      <th>IsCreditCardCustomer_1</th>\n",
              "      <th>ActiveMember_1</th>\n",
              "      <th>Churn_Yes</th>\n",
              "    </tr>\n",
              "  </thead>\n",
              "  <tbody>\n",
              "    <tr>\n",
              "      <th>0</th>\n",
              "      <td>716.0</td>\n",
              "      <td>0.00</td>\n",
              "      <td>189678.70</td>\n",
              "      <td>41.402740</td>\n",
              "      <td>6.832877</td>\n",
              "      <td>1</td>\n",
              "      <td>0</td>\n",
              "      <td>0</td>\n",
              "      <td>0</td>\n",
              "      <td>0</td>\n",
              "      <td>0</td>\n",
              "      <td>0</td>\n",
              "      <td>0</td>\n",
              "      <td>0</td>\n",
              "      <td>0</td>\n",
              "      <td>1</td>\n",
              "      <td>0</td>\n",
              "      <td>0</td>\n",
              "      <td>0</td>\n",
              "      <td>0</td>\n",
              "      <td>0</td>\n",
              "      <td>1</td>\n",
              "      <td>0</td>\n",
              "      <td>0</td>\n",
              "      <td>1</td>\n",
              "      <td>0</td>\n",
              "      <td>0</td>\n",
              "    </tr>\n",
              "    <tr>\n",
              "      <th>1</th>\n",
              "      <td>568.0</td>\n",
              "      <td>169399.60</td>\n",
              "      <td>61936.22</td>\n",
              "      <td>34.769863</td>\n",
              "      <td>10.117808</td>\n",
              "      <td>0</td>\n",
              "      <td>0</td>\n",
              "      <td>1</td>\n",
              "      <td>0</td>\n",
              "      <td>0</td>\n",
              "      <td>0</td>\n",
              "      <td>0</td>\n",
              "      <td>0</td>\n",
              "      <td>0</td>\n",
              "      <td>0</td>\n",
              "      <td>0</td>\n",
              "      <td>0</td>\n",
              "      <td>0</td>\n",
              "      <td>0</td>\n",
              "      <td>0</td>\n",
              "      <td>0</td>\n",
              "      <td>0</td>\n",
              "      <td>0</td>\n",
              "      <td>0</td>\n",
              "      <td>1</td>\n",
              "      <td>0</td>\n",
              "      <td>0</td>\n",
              "    </tr>\n",
              "    <tr>\n",
              "      <th>2</th>\n",
              "      <td>739.0</td>\n",
              "      <td>89750.21</td>\n",
              "      <td>193008.52</td>\n",
              "      <td>21.857534</td>\n",
              "      <td>7.802740</td>\n",
              "      <td>1</td>\n",
              "      <td>0</td>\n",
              "      <td>1</td>\n",
              "      <td>1</td>\n",
              "      <td>0</td>\n",
              "      <td>1</td>\n",
              "      <td>0</td>\n",
              "      <td>0</td>\n",
              "      <td>1</td>\n",
              "      <td>0</td>\n",
              "      <td>0</td>\n",
              "      <td>0</td>\n",
              "      <td>0</td>\n",
              "      <td>0</td>\n",
              "      <td>0</td>\n",
              "      <td>1</td>\n",
              "      <td>0</td>\n",
              "      <td>0</td>\n",
              "      <td>0</td>\n",
              "      <td>1</td>\n",
              "      <td>0</td>\n",
              "      <td>0</td>\n",
              "    </tr>\n",
              "    <tr>\n",
              "      <th>3</th>\n",
              "      <td>678.0</td>\n",
              "      <td>204510.94</td>\n",
              "      <td>738.88</td>\n",
              "      <td>52.509589</td>\n",
              "      <td>5.794521</td>\n",
              "      <td>0</td>\n",
              "      <td>0</td>\n",
              "      <td>0</td>\n",
              "      <td>0</td>\n",
              "      <td>1</td>\n",
              "      <td>0</td>\n",
              "      <td>1</td>\n",
              "      <td>0</td>\n",
              "      <td>1</td>\n",
              "      <td>0</td>\n",
              "      <td>0</td>\n",
              "      <td>0</td>\n",
              "      <td>0</td>\n",
              "      <td>0</td>\n",
              "      <td>0</td>\n",
              "      <td>0</td>\n",
              "      <td>0</td>\n",
              "      <td>0</td>\n",
              "      <td>0</td>\n",
              "      <td>0</td>\n",
              "      <td>1</td>\n",
              "      <td>1</td>\n",
              "    </tr>\n",
              "    <tr>\n",
              "      <th>4</th>\n",
              "      <td>670.0</td>\n",
              "      <td>0.00</td>\n",
              "      <td>78358.94</td>\n",
              "      <td>28.301370</td>\n",
              "      <td>8.967123</td>\n",
              "      <td>1</td>\n",
              "      <td>0</td>\n",
              "      <td>1</td>\n",
              "      <td>0</td>\n",
              "      <td>0</td>\n",
              "      <td>0</td>\n",
              "      <td>1</td>\n",
              "      <td>0</td>\n",
              "      <td>0</td>\n",
              "      <td>1</td>\n",
              "      <td>1</td>\n",
              "      <td>0</td>\n",
              "      <td>0</td>\n",
              "      <td>0</td>\n",
              "      <td>0</td>\n",
              "      <td>0</td>\n",
              "      <td>1</td>\n",
              "      <td>0</td>\n",
              "      <td>0</td>\n",
              "      <td>1</td>\n",
              "      <td>1</td>\n",
              "      <td>0</td>\n",
              "    </tr>\n",
              "  </tbody>\n",
              "</table>\n",
              "</div>"
            ],
            "text/plain": [
              "   CreditScore  AccountBalance  ...  ActiveMember_1  Churn_Yes\n",
              "0        716.0            0.00  ...               0          0\n",
              "1        568.0       169399.60  ...               0          0\n",
              "2        739.0        89750.21  ...               0          0\n",
              "3        678.0       204510.94  ...               1          1\n",
              "4        670.0            0.00  ...               1          0\n",
              "\n",
              "[5 rows x 27 columns]"
            ]
          },
          "metadata": {},
          "execution_count": 31
        }
      ]
    },
    {
      "cell_type": "code",
      "metadata": {
        "id": "8XLtlU4Wv1-o"
      },
      "source": [
        "##correlation plot:\n",
        "temp1=churn_train.corr()"
      ],
      "execution_count": 32,
      "outputs": []
    },
    {
      "cell_type": "code",
      "metadata": {
        "colab": {
          "base_uri": "https://localhost:8080/",
          "height": 952
        },
        "id": "_9PeRXVov1-o",
        "outputId": "63dd6f9a-1b3d-43fd-91c4-01a7b43b75d7"
      },
      "source": [
        "fig = plt.figure(figsize=(18,14))\n",
        "sns.heatmap(temp1,annot=True)"
      ],
      "execution_count": 33,
      "outputs": [
        {
          "output_type": "execute_result",
          "data": {
            "text/plain": [
              "<matplotlib.axes._subplots.AxesSubplot at 0x7fada6b179d0>"
            ]
          },
          "metadata": {},
          "execution_count": 33
        },
        {
          "output_type": "display_data",
          "data": {
            "image/png": "[encoded data removed]",
            "text/plain": [
              "<Figure size 1296x1008 with 2 Axes>"
            ]
          },
          "metadata": {
            "needs_background": "light"
          }
        }
      ]
    },
    {
      "cell_type": "code",
      "metadata": {
        "id": "veY7qwvbv1-o"
      },
      "source": [
        "## Convert Categorical Columns to Dummies\n",
        "cat_cols=[\"Gender\",\"Location\",\"Ownhouse\",\"Education\",\"MaritalStatus\",\"Occupation\",\"NumberOfProducts\",\"IsCreditCardCustomer\",\"ActiveMember\"]\n",
        "churn_test = pd.get_dummies(churn_test,columns=cat_cols,drop_first=True,)"
      ],
      "execution_count": 34,
      "outputs": []
    },
    {
      "cell_type": "code",
      "metadata": {
        "colab": {
          "base_uri": "https://localhost:8080/",
          "height": 240
        },
        "id": "KU1K2b-3v1-o",
        "outputId": "a044128c-bd50-449f-efa4-d3303875ff20"
      },
      "source": [
        "churn_test.head()"
      ],
      "execution_count": 35,
      "outputs": [
        {
          "output_type": "execute_result",
          "data": {
            "text/html": [
              "<div>\n",
              "<style scoped>\n",
              "    .dataframe tbody tr th:only-of-type {\n",
              "        vertical-align: middle;\n",
              "    }\n",
              "\n",
              "    .dataframe tbody tr th {\n",
              "        vertical-align: top;\n",
              "    }\n",
              "\n",
              "    .dataframe thead th {\n",
              "        text-align: right;\n",
              "    }\n",
              "</style>\n",
              "<table border=\"1\" class=\"dataframe\">\n",
              "  <thead>\n",
              "    <tr style=\"text-align: right;\">\n",
              "      <th></th>\n",
              "      <th>CreditScore</th>\n",
              "      <th>AccountBalance</th>\n",
              "      <th>Salary</th>\n",
              "      <th>age</th>\n",
              "      <th>duration</th>\n",
              "      <th>Gender_Male</th>\n",
              "      <th>Location_Location12</th>\n",
              "      <th>Location_Location13</th>\n",
              "      <th>Ownhouse_unknown</th>\n",
              "      <th>Ownhouse_yes</th>\n",
              "      <th>Education_secondary</th>\n",
              "      <th>Education_tertiary</th>\n",
              "      <th>Education_unknown</th>\n",
              "      <th>MaritalStatus_married</th>\n",
              "      <th>MaritalStatus_single</th>\n",
              "      <th>Occupation_management</th>\n",
              "      <th>Occupation_retired</th>\n",
              "      <th>Occupation_self-employed</th>\n",
              "      <th>Occupation_services</th>\n",
              "      <th>Occupation_technician</th>\n",
              "      <th>Occupation_unknown</th>\n",
              "      <th>NumberOfProducts_2</th>\n",
              "      <th>NumberOfProducts_3</th>\n",
              "      <th>NumberOfProducts_4</th>\n",
              "      <th>IsCreditCardCustomer_1</th>\n",
              "      <th>ActiveMember_1</th>\n",
              "    </tr>\n",
              "  </thead>\n",
              "  <tbody>\n",
              "    <tr>\n",
              "      <th>0</th>\n",
              "      <td>624</td>\n",
              "      <td>0.00</td>\n",
              "      <td>62825.03</td>\n",
              "      <td>49.427397</td>\n",
              "      <td>5.783562</td>\n",
              "      <td>1</td>\n",
              "      <td>0</td>\n",
              "      <td>1</td>\n",
              "      <td>0</td>\n",
              "      <td>1</td>\n",
              "      <td>0</td>\n",
              "      <td>0</td>\n",
              "      <td>1</td>\n",
              "      <td>0</td>\n",
              "      <td>1</td>\n",
              "      <td>1</td>\n",
              "      <td>0</td>\n",
              "      <td>0</td>\n",
              "      <td>0</td>\n",
              "      <td>0</td>\n",
              "      <td>0</td>\n",
              "      <td>1</td>\n",
              "      <td>0</td>\n",
              "      <td>0</td>\n",
              "      <td>1</td>\n",
              "      <td>1</td>\n",
              "    </tr>\n",
              "    <tr>\n",
              "      <th>1</th>\n",
              "      <td>777</td>\n",
              "      <td>134571.50</td>\n",
              "      <td>118313.38</td>\n",
              "      <td>30.769863</td>\n",
              "      <td>4.835616</td>\n",
              "      <td>0</td>\n",
              "      <td>0</td>\n",
              "      <td>0</td>\n",
              "      <td>0</td>\n",
              "      <td>1</td>\n",
              "      <td>0</td>\n",
              "      <td>0</td>\n",
              "      <td>0</td>\n",
              "      <td>1</td>\n",
              "      <td>0</td>\n",
              "      <td>0</td>\n",
              "      <td>0</td>\n",
              "      <td>0</td>\n",
              "      <td>0</td>\n",
              "      <td>0</td>\n",
              "      <td>0</td>\n",
              "      <td>0</td>\n",
              "      <td>0</td>\n",
              "      <td>0</td>\n",
              "      <td>0</td>\n",
              "      <td>1</td>\n",
              "    </tr>\n",
              "    <tr>\n",
              "      <th>2</th>\n",
              "      <td>707</td>\n",
              "      <td>0.00</td>\n",
              "      <td>109688.82</td>\n",
              "      <td>55.210959</td>\n",
              "      <td>9.931507</td>\n",
              "      <td>0</td>\n",
              "      <td>0</td>\n",
              "      <td>1</td>\n",
              "      <td>0</td>\n",
              "      <td>1</td>\n",
              "      <td>0</td>\n",
              "      <td>0</td>\n",
              "      <td>0</td>\n",
              "      <td>1</td>\n",
              "      <td>0</td>\n",
              "      <td>0</td>\n",
              "      <td>0</td>\n",
              "      <td>0</td>\n",
              "      <td>0</td>\n",
              "      <td>0</td>\n",
              "      <td>0</td>\n",
              "      <td>0</td>\n",
              "      <td>0</td>\n",
              "      <td>0</td>\n",
              "      <td>1</td>\n",
              "      <td>0</td>\n",
              "    </tr>\n",
              "    <tr>\n",
              "      <th>3</th>\n",
              "      <td>746</td>\n",
              "      <td>172274.01</td>\n",
              "      <td>22374.97</td>\n",
              "      <td>38.249315</td>\n",
              "      <td>5.219178</td>\n",
              "      <td>1</td>\n",
              "      <td>0</td>\n",
              "      <td>0</td>\n",
              "      <td>0</td>\n",
              "      <td>0</td>\n",
              "      <td>1</td>\n",
              "      <td>0</td>\n",
              "      <td>0</td>\n",
              "      <td>0</td>\n",
              "      <td>0</td>\n",
              "      <td>1</td>\n",
              "      <td>0</td>\n",
              "      <td>0</td>\n",
              "      <td>0</td>\n",
              "      <td>0</td>\n",
              "      <td>0</td>\n",
              "      <td>0</td>\n",
              "      <td>0</td>\n",
              "      <td>0</td>\n",
              "      <td>1</td>\n",
              "      <td>0</td>\n",
              "    </tr>\n",
              "    <tr>\n",
              "      <th>4</th>\n",
              "      <td>762</td>\n",
              "      <td>0.00</td>\n",
              "      <td>43075.70</td>\n",
              "      <td>38.158904</td>\n",
              "      <td>12.375342</td>\n",
              "      <td>1</td>\n",
              "      <td>0</td>\n",
              "      <td>0</td>\n",
              "      <td>0</td>\n",
              "      <td>0</td>\n",
              "      <td>0</td>\n",
              "      <td>1</td>\n",
              "      <td>0</td>\n",
              "      <td>0</td>\n",
              "      <td>0</td>\n",
              "      <td>1</td>\n",
              "      <td>0</td>\n",
              "      <td>0</td>\n",
              "      <td>0</td>\n",
              "      <td>0</td>\n",
              "      <td>0</td>\n",
              "      <td>1</td>\n",
              "      <td>0</td>\n",
              "      <td>0</td>\n",
              "      <td>1</td>\n",
              "      <td>1</td>\n",
              "    </tr>\n",
              "  </tbody>\n",
              "</table>\n",
              "</div>"
            ],
            "text/plain": [
              "   CreditScore  AccountBalance  ...  IsCreditCardCustomer_1  ActiveMember_1\n",
              "0          624            0.00  ...                       1               1\n",
              "1          777       134571.50  ...                       0               1\n",
              "2          707            0.00  ...                       1               0\n",
              "3          746       172274.01  ...                       1               0\n",
              "4          762            0.00  ...                       1               1\n",
              "\n",
              "[5 rows x 26 columns]"
            ]
          },
          "metadata": {},
          "execution_count": 35
        }
      ]
    },
    {
      "cell_type": "markdown",
      "metadata": {
        "id": "QY8bMskGv1-o"
      },
      "source": [
        "**Train and Validation Split**"
      ]
    },
    {
      "cell_type": "code",
      "metadata": {
        "id": "Wh9pzwGVv1-o"
      },
      "source": [
        "## Split the data into X and y\n",
        "X = churn_train.copy().drop(\"Churn_Yes\",axis=1)\n",
        "Y = churn_train[\"Churn_Yes\"]"
      ],
      "execution_count": 36,
      "outputs": []
    },
    {
      "cell_type": "code",
      "metadata": {
        "id": "E6H03mTVv1-p"
      },
      "source": [
        "x_train, x_validation, y_train, y_validation = train_test_split(X, Y, test_size=0.30)"
      ],
      "execution_count": 37,
      "outputs": []
    },
    {
      "cell_type": "code",
      "metadata": {
        "colab": {
          "base_uri": "https://localhost:8080/"
        },
        "id": "LHWlROzAv1-p",
        "outputId": "f1d24ea1-8d3c-48dd-bbaf-056ed33e4c05"
      },
      "source": [
        "## Print the shape of X_train, X_test, y_train, y_test\n",
        "print(x_train.shape)\n",
        "print(x_validation.shape)\n",
        "print(y_train.shape)\n",
        "print(y_validation.shape)"
      ],
      "execution_count": 38,
      "outputs": [
        {
          "output_type": "stream",
          "name": "stdout",
          "text": [
            "(5152, 26)\n",
            "(2208, 26)\n",
            "(5152,)\n",
            "(2208,)\n"
          ]
        }
      ]
    },
    {
      "cell_type": "code",
      "metadata": {
        "colab": {
          "base_uri": "https://localhost:8080/",
          "height": 240
        },
        "id": "FrUfmEDGv1-p",
        "outputId": "c9e22cdd-f2e0-478e-81f2-dc306eb16de3"
      },
      "source": [
        "x_train.head()"
      ],
      "execution_count": 39,
      "outputs": [
        {
          "output_type": "execute_result",
          "data": {
            "text/html": [
              "<div>\n",
              "<style scoped>\n",
              "    .dataframe tbody tr th:only-of-type {\n",
              "        vertical-align: middle;\n",
              "    }\n",
              "\n",
              "    .dataframe tbody tr th {\n",
              "        vertical-align: top;\n",
              "    }\n",
              "\n",
              "    .dataframe thead th {\n",
              "        text-align: right;\n",
              "    }\n",
              "</style>\n",
              "<table border=\"1\" class=\"dataframe\">\n",
              "  <thead>\n",
              "    <tr style=\"text-align: right;\">\n",
              "      <th></th>\n",
              "      <th>CreditScore</th>\n",
              "      <th>AccountBalance</th>\n",
              "      <th>Salary</th>\n",
              "      <th>age</th>\n",
              "      <th>duration</th>\n",
              "      <th>Gender_Male</th>\n",
              "      <th>Location_Location12</th>\n",
              "      <th>Location_Location13</th>\n",
              "      <th>Ownhouse_unknown</th>\n",
              "      <th>Ownhouse_yes</th>\n",
              "      <th>Education_secondary</th>\n",
              "      <th>Education_tertiary</th>\n",
              "      <th>Education_unknown</th>\n",
              "      <th>MaritalStatus_married</th>\n",
              "      <th>MaritalStatus_single</th>\n",
              "      <th>Occupation_management</th>\n",
              "      <th>Occupation_retired</th>\n",
              "      <th>Occupation_self-employed</th>\n",
              "      <th>Occupation_services</th>\n",
              "      <th>Occupation_technician</th>\n",
              "      <th>Occupation_unknown</th>\n",
              "      <th>NumberOfProducts_2</th>\n",
              "      <th>NumberOfProducts_3</th>\n",
              "      <th>NumberOfProducts_4</th>\n",
              "      <th>IsCreditCardCustomer_1</th>\n",
              "      <th>ActiveMember_1</th>\n",
              "    </tr>\n",
              "  </thead>\n",
              "  <tbody>\n",
              "    <tr>\n",
              "      <th>3837</th>\n",
              "      <td>580.0</td>\n",
              "      <td>125921.37</td>\n",
              "      <td>94677.83</td>\n",
              "      <td>64.517808</td>\n",
              "      <td>11.550685</td>\n",
              "      <td>1</td>\n",
              "      <td>0</td>\n",
              "      <td>1</td>\n",
              "      <td>0</td>\n",
              "      <td>0</td>\n",
              "      <td>0</td>\n",
              "      <td>0</td>\n",
              "      <td>0</td>\n",
              "      <td>0</td>\n",
              "      <td>0</td>\n",
              "      <td>0</td>\n",
              "      <td>1</td>\n",
              "      <td>0</td>\n",
              "      <td>0</td>\n",
              "      <td>0</td>\n",
              "      <td>0</td>\n",
              "      <td>0</td>\n",
              "      <td>0</td>\n",
              "      <td>0</td>\n",
              "      <td>1</td>\n",
              "      <td>1</td>\n",
              "    </tr>\n",
              "    <tr>\n",
              "      <th>2660</th>\n",
              "      <td>637.0</td>\n",
              "      <td>0.00</td>\n",
              "      <td>149665.65</td>\n",
              "      <td>46.920548</td>\n",
              "      <td>4.972603</td>\n",
              "      <td>0</td>\n",
              "      <td>0</td>\n",
              "      <td>0</td>\n",
              "      <td>0</td>\n",
              "      <td>0</td>\n",
              "      <td>0</td>\n",
              "      <td>0</td>\n",
              "      <td>0</td>\n",
              "      <td>0</td>\n",
              "      <td>1</td>\n",
              "      <td>0</td>\n",
              "      <td>0</td>\n",
              "      <td>0</td>\n",
              "      <td>0</td>\n",
              "      <td>0</td>\n",
              "      <td>0</td>\n",
              "      <td>1</td>\n",
              "      <td>0</td>\n",
              "      <td>0</td>\n",
              "      <td>1</td>\n",
              "      <td>0</td>\n",
              "    </tr>\n",
              "    <tr>\n",
              "      <th>1617</th>\n",
              "      <td>492.0</td>\n",
              "      <td>0.00</td>\n",
              "      <td>182865.09</td>\n",
              "      <td>51.800000</td>\n",
              "      <td>10.794521</td>\n",
              "      <td>0</td>\n",
              "      <td>0</td>\n",
              "      <td>0</td>\n",
              "      <td>0</td>\n",
              "      <td>1</td>\n",
              "      <td>1</td>\n",
              "      <td>0</td>\n",
              "      <td>0</td>\n",
              "      <td>1</td>\n",
              "      <td>0</td>\n",
              "      <td>0</td>\n",
              "      <td>0</td>\n",
              "      <td>0</td>\n",
              "      <td>0</td>\n",
              "      <td>0</td>\n",
              "      <td>0</td>\n",
              "      <td>0</td>\n",
              "      <td>0</td>\n",
              "      <td>0</td>\n",
              "      <td>1</td>\n",
              "      <td>1</td>\n",
              "    </tr>\n",
              "    <tr>\n",
              "      <th>2205</th>\n",
              "      <td>800.0</td>\n",
              "      <td>0.00</td>\n",
              "      <td>51553.43</td>\n",
              "      <td>41.079452</td>\n",
              "      <td>4.517808</td>\n",
              "      <td>1</td>\n",
              "      <td>0</td>\n",
              "      <td>1</td>\n",
              "      <td>0</td>\n",
              "      <td>1</td>\n",
              "      <td>0</td>\n",
              "      <td>1</td>\n",
              "      <td>0</td>\n",
              "      <td>1</td>\n",
              "      <td>0</td>\n",
              "      <td>1</td>\n",
              "      <td>0</td>\n",
              "      <td>0</td>\n",
              "      <td>0</td>\n",
              "      <td>0</td>\n",
              "      <td>0</td>\n",
              "      <td>1</td>\n",
              "      <td>0</td>\n",
              "      <td>0</td>\n",
              "      <td>1</td>\n",
              "      <td>0</td>\n",
              "    </tr>\n",
              "    <tr>\n",
              "      <th>2471</th>\n",
              "      <td>620.0</td>\n",
              "      <td>159492.79</td>\n",
              "      <td>80582.34</td>\n",
              "      <td>42.419178</td>\n",
              "      <td>12.372603</td>\n",
              "      <td>1</td>\n",
              "      <td>1</td>\n",
              "      <td>0</td>\n",
              "      <td>0</td>\n",
              "      <td>1</td>\n",
              "      <td>0</td>\n",
              "      <td>0</td>\n",
              "      <td>0</td>\n",
              "      <td>1</td>\n",
              "      <td>0</td>\n",
              "      <td>0</td>\n",
              "      <td>0</td>\n",
              "      <td>0</td>\n",
              "      <td>0</td>\n",
              "      <td>0</td>\n",
              "      <td>1</td>\n",
              "      <td>0</td>\n",
              "      <td>0</td>\n",
              "      <td>0</td>\n",
              "      <td>1</td>\n",
              "      <td>0</td>\n",
              "    </tr>\n",
              "  </tbody>\n",
              "</table>\n",
              "</div>"
            ],
            "text/plain": [
              "      CreditScore  AccountBalance  ...  IsCreditCardCustomer_1  ActiveMember_1\n",
              "3837        580.0       125921.37  ...                       1               1\n",
              "2660        637.0            0.00  ...                       1               0\n",
              "1617        492.0            0.00  ...                       1               1\n",
              "2205        800.0            0.00  ...                       1               0\n",
              "2471        620.0       159492.79  ...                       1               0\n",
              "\n",
              "[5 rows x 26 columns]"
            ]
          },
          "metadata": {},
          "execution_count": 39
        }
      ]
    },
    {
      "cell_type": "markdown",
      "metadata": {
        "id": "DokKyqPKv1-p"
      },
      "source": [
        "**Standerdization**"
      ]
    },
    {
      "cell_type": "code",
      "metadata": {
        "colab": {
          "base_uri": "https://localhost:8080/"
        },
        "id": "TT5Cp7d3v1-p",
        "outputId": "1af2e355-c7f4-4acf-862d-fbbb8a759e2b"
      },
      "source": [
        "#standerdization:\n",
        "from sklearn.preprocessing import StandardScaler\n",
        "scaler=StandardScaler()\n",
        "scaler.fit(x_train.iloc[:,:5])\n",
        "\n",
        "x_train.iloc[:,:5]=scaler.transform(x_train.iloc[:,:5])\n",
        "x_validation.iloc[:,:5]=scaler.transform(x_validation.iloc[:,:5])"
      ],
      "execution_count": 40,
      "outputs": [
        {
          "output_type": "stream",
          "name": "stderr",
          "text": [
            "/usr/local/lib/python3.7/dist-packages/pandas/core/indexing.py:1734: SettingWithCopyWarning: \n",
            "A value is trying to be set on a copy of a slice from a DataFrame.\n",
            "Try using .loc[row_indexer,col_indexer] = value instead\n",
            "\n",
            "See the caveats in the documentation: https://pandas.pydata.org/pandas-docs/stable/user_guide/indexing.html#returning-a-view-versus-a-copy\n",
            "  isetter(loc, value[:, i].tolist())\n",
            "/usr/local/lib/python3.7/dist-packages/pandas/core/indexing.py:1734: SettingWithCopyWarning: \n",
            "A value is trying to be set on a copy of a slice from a DataFrame.\n",
            "Try using .loc[row_indexer,col_indexer] = value instead\n",
            "\n",
            "See the caveats in the documentation: https://pandas.pydata.org/pandas-docs/stable/user_guide/indexing.html#returning-a-view-versus-a-copy\n",
            "  isetter(loc, value[:, i].tolist())\n"
          ]
        }
      ]
    },
    {
      "cell_type": "code",
      "metadata": {
        "colab": {
          "base_uri": "https://localhost:8080/",
          "height": 240
        },
        "id": "hYNLJYIHv1-p",
        "outputId": "0b30c558-3ed7-4c6d-bfb7-d50b6ad8c5b5"
      },
      "source": [
        "x_train.head()"
      ],
      "execution_count": 41,
      "outputs": [
        {
          "output_type": "execute_result",
          "data": {
            "text/html": [
              "<div>\n",
              "<style scoped>\n",
              "    .dataframe tbody tr th:only-of-type {\n",
              "        vertical-align: middle;\n",
              "    }\n",
              "\n",
              "    .dataframe tbody tr th {\n",
              "        vertical-align: top;\n",
              "    }\n",
              "\n",
              "    .dataframe thead th {\n",
              "        text-align: right;\n",
              "    }\n",
              "</style>\n",
              "<table border=\"1\" class=\"dataframe\">\n",
              "  <thead>\n",
              "    <tr style=\"text-align: right;\">\n",
              "      <th></th>\n",
              "      <th>CreditScore</th>\n",
              "      <th>AccountBalance</th>\n",
              "      <th>Salary</th>\n",
              "      <th>age</th>\n",
              "      <th>duration</th>\n",
              "      <th>Gender_Male</th>\n",
              "      <th>Location_Location12</th>\n",
              "      <th>Location_Location13</th>\n",
              "      <th>Ownhouse_unknown</th>\n",
              "      <th>Ownhouse_yes</th>\n",
              "      <th>Education_secondary</th>\n",
              "      <th>Education_tertiary</th>\n",
              "      <th>Education_unknown</th>\n",
              "      <th>MaritalStatus_married</th>\n",
              "      <th>MaritalStatus_single</th>\n",
              "      <th>Occupation_management</th>\n",
              "      <th>Occupation_retired</th>\n",
              "      <th>Occupation_self-employed</th>\n",
              "      <th>Occupation_services</th>\n",
              "      <th>Occupation_technician</th>\n",
              "      <th>Occupation_unknown</th>\n",
              "      <th>NumberOfProducts_2</th>\n",
              "      <th>NumberOfProducts_3</th>\n",
              "      <th>NumberOfProducts_4</th>\n",
              "      <th>IsCreditCardCustomer_1</th>\n",
              "      <th>ActiveMember_1</th>\n",
              "    </tr>\n",
              "  </thead>\n",
              "  <tbody>\n",
              "    <tr>\n",
              "      <th>3837</th>\n",
              "      <td>-0.741198</td>\n",
              "      <td>0.780655</td>\n",
              "      <td>-0.095667</td>\n",
              "      <td>2.121978</td>\n",
              "      <td>1.121352</td>\n",
              "      <td>1</td>\n",
              "      <td>0</td>\n",
              "      <td>1</td>\n",
              "      <td>0</td>\n",
              "      <td>0</td>\n",
              "      <td>0</td>\n",
              "      <td>0</td>\n",
              "      <td>0</td>\n",
              "      <td>0</td>\n",
              "      <td>0</td>\n",
              "      <td>0</td>\n",
              "      <td>1</td>\n",
              "      <td>0</td>\n",
              "      <td>0</td>\n",
              "      <td>0</td>\n",
              "      <td>0</td>\n",
              "      <td>0</td>\n",
              "      <td>0</td>\n",
              "      <td>0</td>\n",
              "      <td>1</td>\n",
              "      <td>1</td>\n",
              "    </tr>\n",
              "    <tr>\n",
              "      <th>2660</th>\n",
              "      <td>-0.149078</td>\n",
              "      <td>-1.237526</td>\n",
              "      <td>0.863450</td>\n",
              "      <td>0.450246</td>\n",
              "      <td>-1.135353</td>\n",
              "      <td>0</td>\n",
              "      <td>0</td>\n",
              "      <td>0</td>\n",
              "      <td>0</td>\n",
              "      <td>0</td>\n",
              "      <td>0</td>\n",
              "      <td>0</td>\n",
              "      <td>0</td>\n",
              "      <td>0</td>\n",
              "      <td>1</td>\n",
              "      <td>0</td>\n",
              "      <td>0</td>\n",
              "      <td>0</td>\n",
              "      <td>0</td>\n",
              "      <td>0</td>\n",
              "      <td>0</td>\n",
              "      <td>1</td>\n",
              "      <td>0</td>\n",
              "      <td>0</td>\n",
              "      <td>1</td>\n",
              "      <td>0</td>\n",
              "    </tr>\n",
              "    <tr>\n",
              "      <th>1617</th>\n",
              "      <td>-1.655347</td>\n",
              "      <td>-1.237526</td>\n",
              "      <td>1.442526</td>\n",
              "      <td>0.913792</td>\n",
              "      <td>0.861939</td>\n",
              "      <td>0</td>\n",
              "      <td>0</td>\n",
              "      <td>0</td>\n",
              "      <td>0</td>\n",
              "      <td>1</td>\n",
              "      <td>1</td>\n",
              "      <td>0</td>\n",
              "      <td>0</td>\n",
              "      <td>1</td>\n",
              "      <td>0</td>\n",
              "      <td>0</td>\n",
              "      <td>0</td>\n",
              "      <td>0</td>\n",
              "      <td>0</td>\n",
              "      <td>0</td>\n",
              "      <td>0</td>\n",
              "      <td>0</td>\n",
              "      <td>0</td>\n",
              "      <td>0</td>\n",
              "      <td>1</td>\n",
              "      <td>1</td>\n",
              "    </tr>\n",
              "    <tr>\n",
              "      <th>2205</th>\n",
              "      <td>1.544176</td>\n",
              "      <td>-1.237526</td>\n",
              "      <td>-0.847858</td>\n",
              "      <td>-0.104656</td>\n",
              "      <td>-1.291377</td>\n",
              "      <td>1</td>\n",
              "      <td>0</td>\n",
              "      <td>1</td>\n",
              "      <td>0</td>\n",
              "      <td>1</td>\n",
              "      <td>0</td>\n",
              "      <td>1</td>\n",
              "      <td>0</td>\n",
              "      <td>1</td>\n",
              "      <td>0</td>\n",
              "      <td>1</td>\n",
              "      <td>0</td>\n",
              "      <td>0</td>\n",
              "      <td>0</td>\n",
              "      <td>0</td>\n",
              "      <td>0</td>\n",
              "      <td>1</td>\n",
              "      <td>0</td>\n",
              "      <td>0</td>\n",
              "      <td>1</td>\n",
              "      <td>0</td>\n",
              "    </tr>\n",
              "    <tr>\n",
              "      <th>2471</th>\n",
              "      <td>-0.325675</td>\n",
              "      <td>1.318714</td>\n",
              "      <td>-0.341526</td>\n",
              "      <td>0.022618</td>\n",
              "      <td>1.403323</td>\n",
              "      <td>1</td>\n",
              "      <td>1</td>\n",
              "      <td>0</td>\n",
              "      <td>0</td>\n",
              "      <td>1</td>\n",
              "      <td>0</td>\n",
              "      <td>0</td>\n",
              "      <td>0</td>\n",
              "      <td>1</td>\n",
              "      <td>0</td>\n",
              "      <td>0</td>\n",
              "      <td>0</td>\n",
              "      <td>0</td>\n",
              "      <td>0</td>\n",
              "      <td>0</td>\n",
              "      <td>1</td>\n",
              "      <td>0</td>\n",
              "      <td>0</td>\n",
              "      <td>0</td>\n",
              "      <td>1</td>\n",
              "      <td>0</td>\n",
              "    </tr>\n",
              "  </tbody>\n",
              "</table>\n",
              "</div>"
            ],
            "text/plain": [
              "      CreditScore  AccountBalance  ...  IsCreditCardCustomer_1  ActiveMember_1\n",
              "3837    -0.741198        0.780655  ...                       1               1\n",
              "2660    -0.149078       -1.237526  ...                       1               0\n",
              "1617    -1.655347       -1.237526  ...                       1               1\n",
              "2205     1.544176       -1.237526  ...                       1               0\n",
              "2471    -0.325675        1.318714  ...                       1               0\n",
              "\n",
              "[5 rows x 26 columns]"
            ]
          },
          "metadata": {},
          "execution_count": 41
        }
      ]
    },
    {
      "cell_type": "code",
      "metadata": {
        "colab": {
          "base_uri": "https://localhost:8080/",
          "height": 240
        },
        "id": "vF4OKDAiv1-q",
        "outputId": "2724fd5e-e202-4240-fc22-002dfd7bbc4b"
      },
      "source": [
        "x_validation.head()"
      ],
      "execution_count": 42,
      "outputs": [
        {
          "output_type": "execute_result",
          "data": {
            "text/html": [
              "<div>\n",
              "<style scoped>\n",
              "    .dataframe tbody tr th:only-of-type {\n",
              "        vertical-align: middle;\n",
              "    }\n",
              "\n",
              "    .dataframe tbody tr th {\n",
              "        vertical-align: top;\n",
              "    }\n",
              "\n",
              "    .dataframe thead th {\n",
              "        text-align: right;\n",
              "    }\n",
              "</style>\n",
              "<table border=\"1\" class=\"dataframe\">\n",
              "  <thead>\n",
              "    <tr style=\"text-align: right;\">\n",
              "      <th></th>\n",
              "      <th>CreditScore</th>\n",
              "      <th>AccountBalance</th>\n",
              "      <th>Salary</th>\n",
              "      <th>age</th>\n",
              "      <th>duration</th>\n",
              "      <th>Gender_Male</th>\n",
              "      <th>Location_Location12</th>\n",
              "      <th>Location_Location13</th>\n",
              "      <th>Ownhouse_unknown</th>\n",
              "      <th>Ownhouse_yes</th>\n",
              "      <th>Education_secondary</th>\n",
              "      <th>Education_tertiary</th>\n",
              "      <th>Education_unknown</th>\n",
              "      <th>MaritalStatus_married</th>\n",
              "      <th>MaritalStatus_single</th>\n",
              "      <th>Occupation_management</th>\n",
              "      <th>Occupation_retired</th>\n",
              "      <th>Occupation_self-employed</th>\n",
              "      <th>Occupation_services</th>\n",
              "      <th>Occupation_technician</th>\n",
              "      <th>Occupation_unknown</th>\n",
              "      <th>NumberOfProducts_2</th>\n",
              "      <th>NumberOfProducts_3</th>\n",
              "      <th>NumberOfProducts_4</th>\n",
              "      <th>IsCreditCardCustomer_1</th>\n",
              "      <th>ActiveMember_1</th>\n",
              "    </tr>\n",
              "  </thead>\n",
              "  <tbody>\n",
              "    <tr>\n",
              "      <th>2852</th>\n",
              "      <td>-1.800780</td>\n",
              "      <td>-1.237526</td>\n",
              "      <td>1.705057</td>\n",
              "      <td>0.390383</td>\n",
              "      <td>-1.272579</td>\n",
              "      <td>1</td>\n",
              "      <td>0</td>\n",
              "      <td>1</td>\n",
              "      <td>0</td>\n",
              "      <td>0</td>\n",
              "      <td>1</td>\n",
              "      <td>0</td>\n",
              "      <td>0</td>\n",
              "      <td>0</td>\n",
              "      <td>1</td>\n",
              "      <td>1</td>\n",
              "      <td>0</td>\n",
              "      <td>0</td>\n",
              "      <td>0</td>\n",
              "      <td>0</td>\n",
              "      <td>0</td>\n",
              "      <td>1</td>\n",
              "      <td>0</td>\n",
              "      <td>0</td>\n",
              "      <td>1</td>\n",
              "      <td>1</td>\n",
              "    </tr>\n",
              "    <tr>\n",
              "      <th>6364</th>\n",
              "      <td>-0.388004</td>\n",
              "      <td>0.579146</td>\n",
              "      <td>-0.390248</td>\n",
              "      <td>0.103042</td>\n",
              "      <td>-0.609008</td>\n",
              "      <td>0</td>\n",
              "      <td>0</td>\n",
              "      <td>1</td>\n",
              "      <td>0</td>\n",
              "      <td>1</td>\n",
              "      <td>0</td>\n",
              "      <td>0</td>\n",
              "      <td>0</td>\n",
              "      <td>1</td>\n",
              "      <td>0</td>\n",
              "      <td>0</td>\n",
              "      <td>0</td>\n",
              "      <td>0</td>\n",
              "      <td>0</td>\n",
              "      <td>0</td>\n",
              "      <td>0</td>\n",
              "      <td>0</td>\n",
              "      <td>0</td>\n",
              "      <td>0</td>\n",
              "      <td>1</td>\n",
              "      <td>1</td>\n",
              "    </tr>\n",
              "    <tr>\n",
              "      <th>4975</th>\n",
              "      <td>-0.263347</td>\n",
              "      <td>0.174637</td>\n",
              "      <td>-1.174518</td>\n",
              "      <td>-0.325627</td>\n",
              "      <td>-0.497160</td>\n",
              "      <td>1</td>\n",
              "      <td>1</td>\n",
              "      <td>0</td>\n",
              "      <td>0</td>\n",
              "      <td>0</td>\n",
              "      <td>0</td>\n",
              "      <td>1</td>\n",
              "      <td>0</td>\n",
              "      <td>0</td>\n",
              "      <td>1</td>\n",
              "      <td>1</td>\n",
              "      <td>0</td>\n",
              "      <td>0</td>\n",
              "      <td>0</td>\n",
              "      <td>0</td>\n",
              "      <td>0</td>\n",
              "      <td>0</td>\n",
              "      <td>0</td>\n",
              "      <td>0</td>\n",
              "      <td>1</td>\n",
              "      <td>1</td>\n",
              "    </tr>\n",
              "    <tr>\n",
              "      <th>7031</th>\n",
              "      <td>0.806623</td>\n",
              "      <td>0.582769</td>\n",
              "      <td>0.056399</td>\n",
              "      <td>0.117357</td>\n",
              "      <td>-0.120259</td>\n",
              "      <td>1</td>\n",
              "      <td>1</td>\n",
              "      <td>0</td>\n",
              "      <td>0</td>\n",
              "      <td>0</td>\n",
              "      <td>0</td>\n",
              "      <td>0</td>\n",
              "      <td>1</td>\n",
              "      <td>0</td>\n",
              "      <td>0</td>\n",
              "      <td>0</td>\n",
              "      <td>0</td>\n",
              "      <td>0</td>\n",
              "      <td>0</td>\n",
              "      <td>1</td>\n",
              "      <td>0</td>\n",
              "      <td>1</td>\n",
              "      <td>0</td>\n",
              "      <td>0</td>\n",
              "      <td>1</td>\n",
              "      <td>0</td>\n",
              "    </tr>\n",
              "    <tr>\n",
              "      <th>2465</th>\n",
              "      <td>-2.340959</td>\n",
              "      <td>-1.237526</td>\n",
              "      <td>-0.679062</td>\n",
              "      <td>-0.449517</td>\n",
              "      <td>-0.836464</td>\n",
              "      <td>0</td>\n",
              "      <td>0</td>\n",
              "      <td>0</td>\n",
              "      <td>0</td>\n",
              "      <td>0</td>\n",
              "      <td>0</td>\n",
              "      <td>0</td>\n",
              "      <td>0</td>\n",
              "      <td>0</td>\n",
              "      <td>0</td>\n",
              "      <td>0</td>\n",
              "      <td>0</td>\n",
              "      <td>0</td>\n",
              "      <td>0</td>\n",
              "      <td>0</td>\n",
              "      <td>0</td>\n",
              "      <td>1</td>\n",
              "      <td>0</td>\n",
              "      <td>0</td>\n",
              "      <td>1</td>\n",
              "      <td>1</td>\n",
              "    </tr>\n",
              "  </tbody>\n",
              "</table>\n",
              "</div>"
            ],
            "text/plain": [
              "      CreditScore  AccountBalance  ...  IsCreditCardCustomer_1  ActiveMember_1\n",
              "2852    -1.800780       -1.237526  ...                       1               1\n",
              "6364    -0.388004        0.579146  ...                       1               1\n",
              "4975    -0.263347        0.174637  ...                       1               1\n",
              "7031     0.806623        0.582769  ...                       1               0\n",
              "2465    -2.340959       -1.237526  ...                       1               1\n",
              "\n",
              "[5 rows x 26 columns]"
            ]
          },
          "metadata": {},
          "execution_count": 42
        }
      ]
    },
    {
      "cell_type": "code",
      "metadata": {
        "id": "czti_WICv1-q"
      },
      "source": [
        "###standerdization:\n",
        "from sklearn.preprocessing import StandardScaler\n",
        "scaler=StandardScaler()\n",
        "scaler.fit(churn_test.iloc[:,:5])\n",
        "\n",
        "churn_test.iloc[:,:5]=scaler.transform(churn_test.iloc[:,:5])\n"
      ],
      "execution_count": 43,
      "outputs": []
    },
    {
      "cell_type": "code",
      "metadata": {
        "colab": {
          "base_uri": "https://localhost:8080/",
          "height": 240
        },
        "id": "xXsaZ5khv1-q",
        "outputId": "40637d98-c5e4-40a6-b6e1-8c4f8ab91308"
      },
      "source": [
        "churn_test.head()"
      ],
      "execution_count": 44,
      "outputs": [
        {
          "output_type": "execute_result",
          "data": {
            "text/html": [
              "<div>\n",
              "<style scoped>\n",
              "    .dataframe tbody tr th:only-of-type {\n",
              "        vertical-align: middle;\n",
              "    }\n",
              "\n",
              "    .dataframe tbody tr th {\n",
              "        vertical-align: top;\n",
              "    }\n",
              "\n",
              "    .dataframe thead th {\n",
              "        text-align: right;\n",
              "    }\n",
              "</style>\n",
              "<table border=\"1\" class=\"dataframe\">\n",
              "  <thead>\n",
              "    <tr style=\"text-align: right;\">\n",
              "      <th></th>\n",
              "      <th>CreditScore</th>\n",
              "      <th>AccountBalance</th>\n",
              "      <th>Salary</th>\n",
              "      <th>age</th>\n",
              "      <th>duration</th>\n",
              "      <th>Gender_Male</th>\n",
              "      <th>Location_Location12</th>\n",
              "      <th>Location_Location13</th>\n",
              "      <th>Ownhouse_unknown</th>\n",
              "      <th>Ownhouse_yes</th>\n",
              "      <th>Education_secondary</th>\n",
              "      <th>Education_tertiary</th>\n",
              "      <th>Education_unknown</th>\n",
              "      <th>MaritalStatus_married</th>\n",
              "      <th>MaritalStatus_single</th>\n",
              "      <th>Occupation_management</th>\n",
              "      <th>Occupation_retired</th>\n",
              "      <th>Occupation_self-employed</th>\n",
              "      <th>Occupation_services</th>\n",
              "      <th>Occupation_technician</th>\n",
              "      <th>Occupation_unknown</th>\n",
              "      <th>NumberOfProducts_2</th>\n",
              "      <th>NumberOfProducts_3</th>\n",
              "      <th>NumberOfProducts_4</th>\n",
              "      <th>IsCreditCardCustomer_1</th>\n",
              "      <th>ActiveMember_1</th>\n",
              "    </tr>\n",
              "  </thead>\n",
              "  <tbody>\n",
              "    <tr>\n",
              "      <th>0</th>\n",
              "      <td>-0.278113</td>\n",
              "      <td>-1.199986</td>\n",
              "      <td>-0.643200</td>\n",
              "      <td>0.672983</td>\n",
              "      <td>-0.829312</td>\n",
              "      <td>1</td>\n",
              "      <td>0</td>\n",
              "      <td>1</td>\n",
              "      <td>0</td>\n",
              "      <td>1</td>\n",
              "      <td>0</td>\n",
              "      <td>0</td>\n",
              "      <td>1</td>\n",
              "      <td>0</td>\n",
              "      <td>1</td>\n",
              "      <td>1</td>\n",
              "      <td>0</td>\n",
              "      <td>0</td>\n",
              "      <td>0</td>\n",
              "      <td>0</td>\n",
              "      <td>0</td>\n",
              "      <td>1</td>\n",
              "      <td>0</td>\n",
              "      <td>0</td>\n",
              "      <td>1</td>\n",
              "      <td>1</td>\n",
              "    </tr>\n",
              "    <tr>\n",
              "      <th>1</th>\n",
              "      <td>1.310622</td>\n",
              "      <td>0.949791</td>\n",
              "      <td>0.312579</td>\n",
              "      <td>-1.063478</td>\n",
              "      <td>-1.157439</td>\n",
              "      <td>0</td>\n",
              "      <td>0</td>\n",
              "      <td>0</td>\n",
              "      <td>0</td>\n",
              "      <td>1</td>\n",
              "      <td>0</td>\n",
              "      <td>0</td>\n",
              "      <td>0</td>\n",
              "      <td>1</td>\n",
              "      <td>0</td>\n",
              "      <td>0</td>\n",
              "      <td>0</td>\n",
              "      <td>0</td>\n",
              "      <td>0</td>\n",
              "      <td>0</td>\n",
              "      <td>0</td>\n",
              "      <td>0</td>\n",
              "      <td>0</td>\n",
              "      <td>0</td>\n",
              "      <td>0</td>\n",
              "      <td>1</td>\n",
              "    </tr>\n",
              "    <tr>\n",
              "      <th>2</th>\n",
              "      <td>0.583750</td>\n",
              "      <td>-1.199986</td>\n",
              "      <td>0.164022</td>\n",
              "      <td>1.211261</td>\n",
              "      <td>0.606481</td>\n",
              "      <td>0</td>\n",
              "      <td>0</td>\n",
              "      <td>1</td>\n",
              "      <td>0</td>\n",
              "      <td>1</td>\n",
              "      <td>0</td>\n",
              "      <td>0</td>\n",
              "      <td>0</td>\n",
              "      <td>1</td>\n",
              "      <td>0</td>\n",
              "      <td>0</td>\n",
              "      <td>0</td>\n",
              "      <td>0</td>\n",
              "      <td>0</td>\n",
              "      <td>0</td>\n",
              "      <td>0</td>\n",
              "      <td>0</td>\n",
              "      <td>0</td>\n",
              "      <td>0</td>\n",
              "      <td>1</td>\n",
              "      <td>0</td>\n",
              "    </tr>\n",
              "    <tr>\n",
              "      <th>3</th>\n",
              "      <td>0.988721</td>\n",
              "      <td>1.552087</td>\n",
              "      <td>-1.339946</td>\n",
              "      <td>-0.367364</td>\n",
              "      <td>-1.024671</td>\n",
              "      <td>1</td>\n",
              "      <td>0</td>\n",
              "      <td>0</td>\n",
              "      <td>0</td>\n",
              "      <td>0</td>\n",
              "      <td>1</td>\n",
              "      <td>0</td>\n",
              "      <td>0</td>\n",
              "      <td>0</td>\n",
              "      <td>0</td>\n",
              "      <td>1</td>\n",
              "      <td>0</td>\n",
              "      <td>0</td>\n",
              "      <td>0</td>\n",
              "      <td>0</td>\n",
              "      <td>0</td>\n",
              "      <td>0</td>\n",
              "      <td>0</td>\n",
              "      <td>0</td>\n",
              "      <td>1</td>\n",
              "      <td>0</td>\n",
              "    </tr>\n",
              "    <tr>\n",
              "      <th>4</th>\n",
              "      <td>1.154863</td>\n",
              "      <td>-1.199986</td>\n",
              "      <td>-0.983379</td>\n",
              "      <td>-0.375778</td>\n",
              "      <td>1.452403</td>\n",
              "      <td>1</td>\n",
              "      <td>0</td>\n",
              "      <td>0</td>\n",
              "      <td>0</td>\n",
              "      <td>0</td>\n",
              "      <td>0</td>\n",
              "      <td>1</td>\n",
              "      <td>0</td>\n",
              "      <td>0</td>\n",
              "      <td>0</td>\n",
              "      <td>1</td>\n",
              "      <td>0</td>\n",
              "      <td>0</td>\n",
              "      <td>0</td>\n",
              "      <td>0</td>\n",
              "      <td>0</td>\n",
              "      <td>1</td>\n",
              "      <td>0</td>\n",
              "      <td>0</td>\n",
              "      <td>1</td>\n",
              "      <td>1</td>\n",
              "    </tr>\n",
              "  </tbody>\n",
              "</table>\n",
              "</div>"
            ],
            "text/plain": [
              "   CreditScore  AccountBalance  ...  IsCreditCardCustomer_1  ActiveMember_1\n",
              "0    -0.278113       -1.199986  ...                       1               1\n",
              "1     1.310622        0.949791  ...                       0               1\n",
              "2     0.583750       -1.199986  ...                       1               0\n",
              "3     0.988721        1.552087  ...                       1               0\n",
              "4     1.154863       -1.199986  ...                       1               1\n",
              "\n",
              "[5 rows x 26 columns]"
            ]
          },
          "metadata": {},
          "execution_count": 44
        }
      ]
    },
    {
      "cell_type": "markdown",
      "metadata": {
        "id": "Dh-7ww2Hv1-q"
      },
      "source": [
        "# Model Building"
      ]
    },
    {
      "cell_type": "markdown",
      "metadata": {
        "id": "vP1QM0eRv1-q"
      },
      "source": [
        "**Logistic Regression**"
      ]
    },
    {
      "cell_type": "code",
      "metadata": {
        "id": "d3c-NNWSv1-q"
      },
      "source": [
        "##logistic regression\n",
        "from sklearn.linear_model import LogisticRegression\n",
        "lrc = LogisticRegression()\n",
        "\n",
        "lrc.fit(x_train,y_train)\n",
        "\n",
        "y_pred_train_lrc = lrc.predict(x_train)\n",
        "y_pred_val_lrc = lrc.predict(x_validation)"
      ],
      "execution_count": 45,
      "outputs": []
    },
    {
      "cell_type": "code",
      "metadata": {
        "colab": {
          "base_uri": "https://localhost:8080/"
        },
        "id": "Q8afUGziv1-r",
        "outputId": "18be2826-4ce9-471c-e123-c46a361348fe"
      },
      "source": [
        "#from sklearn.linear_model import LogisticRegression\n",
        "from sklearn.metrics import classification_report,confusion_matrix\n",
        "from sklearn.metrics import precision_recall_fscore_support as score\n",
        "\n",
        "print(classification_report(y_train,y_pred_train_lrc))\n",
        "print(classification_report(y_validation,y_pred_val_lrc))"
      ],
      "execution_count": 46,
      "outputs": [
        {
          "output_type": "stream",
          "name": "stdout",
          "text": [
            "              precision    recall  f1-score   support\n",
            "\n",
            "           0       0.87      0.96      0.91      4127\n",
            "           1       0.74      0.41      0.53      1025\n",
            "\n",
            "    accuracy                           0.85      5152\n",
            "   macro avg       0.81      0.69      0.72      5152\n",
            "weighted avg       0.84      0.85      0.84      5152\n",
            "\n",
            "              precision    recall  f1-score   support\n",
            "\n",
            "           0       0.85      0.96      0.90      1741\n",
            "           1       0.74      0.38      0.50       467\n",
            "\n",
            "    accuracy                           0.84      2208\n",
            "   macro avg       0.80      0.67      0.70      2208\n",
            "weighted avg       0.83      0.84      0.82      2208\n",
            "\n"
          ]
        }
      ]
    },
    {
      "cell_type": "code",
      "metadata": {
        "colab": {
          "base_uri": "https://localhost:8080/"
        },
        "id": "yZ1uAf0ev1-r",
        "outputId": "f16adf24-2317-4168-885f-7da18b201024"
      },
      "source": [
        "y_pred_train_lrc"
      ],
      "execution_count": 47,
      "outputs": [
        {
          "output_type": "execute_result",
          "data": {
            "text/plain": [
              "array([0, 0, 0, ..., 0, 0, 0], dtype=uint8)"
            ]
          },
          "metadata": {},
          "execution_count": 47
        }
      ]
    },
    {
      "cell_type": "code",
      "metadata": {
        "colab": {
          "base_uri": "https://localhost:8080/"
        },
        "id": "SqNvRgSdv1-r",
        "outputId": "065b5697-2ec9-4739-a98c-43a8e356e0ab"
      },
      "source": [
        "y_pred_val_lrc"
      ],
      "execution_count": 48,
      "outputs": [
        {
          "output_type": "execute_result",
          "data": {
            "text/plain": [
              "array([0, 0, 0, ..., 0, 0, 1], dtype=uint8)"
            ]
          },
          "metadata": {},
          "execution_count": 48
        }
      ]
    },
    {
      "cell_type": "code",
      "metadata": {
        "id": "eQvrB5rVv1-s"
      },
      "source": [
        "##test predictions\n",
        "y_pred_test_lrc = lrc.predict(churn_test)"
      ],
      "execution_count": 49,
      "outputs": []
    },
    {
      "cell_type": "code",
      "metadata": {
        "colab": {
          "base_uri": "https://localhost:8080/"
        },
        "id": "cGMV-jiZv1-s",
        "outputId": "ca88d376-f3e1-4efb-df7f-0fae8a269a24"
      },
      "source": [
        "y_pred_test_lrc"
      ],
      "execution_count": 50,
      "outputs": [
        {
          "output_type": "execute_result",
          "data": {
            "text/plain": [
              "array([0, 0, 1, ..., 0, 0, 1], dtype=uint8)"
            ]
          },
          "metadata": {},
          "execution_count": 50
        }
      ]
    },
    {
      "cell_type": "markdown",
      "metadata": {
        "id": "KIkD1cpLv1-s"
      },
      "source": [
        "**Random Forest**"
      ]
    },
    {
      "cell_type": "code",
      "metadata": {
        "id": "vKG-0oLBv1-s"
      },
      "source": [
        "##random forest\n",
        "from sklearn.ensemble import RandomForestClassifier\n",
        "rfc = RandomForestClassifier()\n",
        "rfc.fit(X = x_train,y = y_train)\n",
        "\n",
        "train_predictions = rfc.predict(x_train)\n",
        "val_predictions = rfc.predict(x_validation)"
      ],
      "execution_count": 51,
      "outputs": []
    },
    {
      "cell_type": "code",
      "metadata": {
        "colab": {
          "base_uri": "https://localhost:8080/"
        },
        "id": "vNxx2a-8v1-s",
        "outputId": "7e8d26da-714c-423c-f92c-824a386dd5eb"
      },
      "source": [
        "print(classification_report(y_train,train_predictions))\n",
        "print(classification_report(y_validation,val_predictions))\n",
        "\n",
        "pred_rfc_train=accuracy_score(y_train, train_predictions)\n",
        "pred_rfc_val=accuracy_score(y_validation, val_predictions)"
      ],
      "execution_count": 52,
      "outputs": [
        {
          "output_type": "stream",
          "name": "stdout",
          "text": [
            "              precision    recall  f1-score   support\n",
            "\n",
            "           0       1.00      1.00      1.00      4127\n",
            "           1       1.00      1.00      1.00      1025\n",
            "\n",
            "    accuracy                           1.00      5152\n",
            "   macro avg       1.00      1.00      1.00      5152\n",
            "weighted avg       1.00      1.00      1.00      5152\n",
            "\n",
            "              precision    recall  f1-score   support\n",
            "\n",
            "           0       0.86      0.97      0.91      1741\n",
            "           1       0.77      0.43      0.56       467\n",
            "\n",
            "    accuracy                           0.85      2208\n",
            "   macro avg       0.82      0.70      0.73      2208\n",
            "weighted avg       0.84      0.85      0.84      2208\n",
            "\n"
          ]
        }
      ]
    },
    {
      "cell_type": "code",
      "metadata": {
        "id": "vEtpZi1fv1-t"
      },
      "source": [
        "##test predictions\n",
        "test_predictions = rfc.predict(churn_test)"
      ],
      "execution_count": 53,
      "outputs": []
    },
    {
      "cell_type": "code",
      "metadata": {
        "colab": {
          "base_uri": "https://localhost:8080/"
        },
        "id": "eivV_el9v1-t",
        "outputId": "5aea6882-1aec-40f5-b849-bd127e1a24a5"
      },
      "source": [
        "test_predictions"
      ],
      "execution_count": 54,
      "outputs": [
        {
          "output_type": "execute_result",
          "data": {
            "text/plain": [
              "array([0, 0, 1, ..., 0, 0, 1], dtype=uint8)"
            ]
          },
          "metadata": {},
          "execution_count": 54
        }
      ]
    },
    {
      "cell_type": "markdown",
      "metadata": {
        "id": "wD1NLCvIv1-t"
      },
      "source": [
        "**XGBOOST**"
      ]
    },
    {
      "cell_type": "code",
      "metadata": {
        "colab": {
          "base_uri": "https://localhost:8080/"
        },
        "id": "vAnO36F8v1-t",
        "outputId": "aecb212b-043f-45ec-ac2f-0e926226dc8f"
      },
      "source": [
        "##xgboost\n",
        "from xgboost import  XGBClassifier\n",
        "X_classifier = XGBClassifier()\n",
        "X_classifier.fit(x_train,y_train)"
      ],
      "execution_count": 55,
      "outputs": [
        {
          "output_type": "execute_result",
          "data": {
            "text/plain": [
              "XGBClassifier(base_score=0.5, booster='gbtree', colsample_bylevel=1,\n",
              "              colsample_bynode=1, colsample_bytree=1, gamma=0,\n",
              "              learning_rate=0.1, max_delta_step=0, max_depth=3,\n",
              "              min_child_weight=1, missing=None, n_estimators=100, n_jobs=1,\n",
              "              nthread=None, objective='binary:logistic', random_state=0,\n",
              "              reg_alpha=0, reg_lambda=1, scale_pos_weight=1, seed=None,\n",
              "              silent=None, subsample=1, verbosity=1)"
            ]
          },
          "metadata": {},
          "execution_count": 55
        }
      ]
    },
    {
      "cell_type": "code",
      "metadata": {
        "id": "VeaeknODv1-t"
      },
      "source": [
        "xgboost_train_preds=X_classifier.predict(x_train)\n",
        "xgboost_val_preds=X_classifier.predict(x_validation)"
      ],
      "execution_count": 56,
      "outputs": []
    },
    {
      "cell_type": "code",
      "metadata": {
        "colab": {
          "base_uri": "https://localhost:8080/"
        },
        "id": "Ah4gv3O8v1-t",
        "outputId": "6ee8fb5e-6635-4850-db3a-9f10911d04ff"
      },
      "source": [
        "print(\"Classification Report\")\n",
        "print(classification_report(y_validation,xgboost_val_preds))\n",
        "print(\"Classification Report\")\n",
        "print(classification_report(y_train,xgboost_train_preds))"
      ],
      "execution_count": 57,
      "outputs": [
        {
          "output_type": "stream",
          "name": "stdout",
          "text": [
            "Classification Report\n",
            "              precision    recall  f1-score   support\n",
            "\n",
            "           0       0.86      0.96      0.91      1741\n",
            "           1       0.76      0.43      0.55       467\n",
            "\n",
            "    accuracy                           0.85      2208\n",
            "   macro avg       0.81      0.70      0.73      2208\n",
            "weighted avg       0.84      0.85      0.83      2208\n",
            "\n",
            "Classification Report\n",
            "              precision    recall  f1-score   support\n",
            "\n",
            "           0       0.88      0.97      0.93      4127\n",
            "           1       0.82      0.48      0.61      1025\n",
            "\n",
            "    accuracy                           0.88      5152\n",
            "   macro avg       0.85      0.73      0.77      5152\n",
            "weighted avg       0.87      0.88      0.86      5152\n",
            "\n"
          ]
        }
      ]
    },
    {
      "cell_type": "code",
      "metadata": {
        "id": "ZD4VN1S7v1-u"
      },
      "source": [
        "##test predictions\n",
        "xgboost_test_preds=X_classifier.predict(churn_test)"
      ],
      "execution_count": 58,
      "outputs": []
    },
    {
      "cell_type": "code",
      "metadata": {
        "colab": {
          "base_uri": "https://localhost:8080/"
        },
        "id": "O3-oIouev1-u",
        "outputId": "c51dd513-f8dc-4297-aa7a-d69ec0733175"
      },
      "source": [
        "xgboost_test_preds"
      ],
      "execution_count": 59,
      "outputs": [
        {
          "output_type": "execute_result",
          "data": {
            "text/plain": [
              "array([0, 0, 1, ..., 0, 0, 1], dtype=uint8)"
            ]
          },
          "metadata": {},
          "execution_count": 59
        }
      ]
    },
    {
      "cell_type": "code",
      "metadata": {
        "id": "Dh2TSKZ5v1-u"
      },
      "source": [
        "temp=pd.read_excel(\"Test.xlsx\")"
      ],
      "execution_count": 61,
      "outputs": []
    },
    {
      "cell_type": "code",
      "metadata": {
        "id": "EO8vXkb1v1-u"
      },
      "source": [
        "samplesubmission = pd.DataFrame({'CustomerID':temp['CustomerID'],'Churn':xgboost_test_preds})"
      ],
      "execution_count": 62,
      "outputs": []
    },
    {
      "cell_type": "code",
      "metadata": {
        "colab": {
          "base_uri": "https://localhost:8080/"
        },
        "id": "gUcEn95Tv1-u",
        "outputId": "056dfe37-cbef-487d-ce40-76f1d5ba25d7"
      },
      "source": [
        "##file conversion\n",
        "filename = 'mithoutput5.csv'\n",
        "\n",
        "samplesubmission.to_csv(filename,index=False)\n",
        "\n",
        "print('Saved file: ' + filename)"
      ],
      "execution_count": 63,
      "outputs": [
        {
          "output_type": "stream",
          "name": "stdout",
          "text": [
            "Saved file: mithoutput5.csv\n"
          ]
        }
      ]
    },
    {
      "cell_type": "code",
      "metadata": {
        "id": "FfF_PFoUv1-u"
      },
      "source": [
        "#samplesubmission = pd.DataFrame({'CustomerID':temp['CustomerID'],'Churn':xgboost_test_preds})"
      ],
      "execution_count": 64,
      "outputs": []
    },
    {
      "cell_type": "markdown",
      "metadata": {
        "id": "DOSLPLdmv1-u"
      },
      "source": [
        "**Decision Tree**"
      ]
    },
    {
      "cell_type": "code",
      "metadata": {
        "id": "MSNvqoYWv1-u"
      },
      "source": [
        "##decision tree\n",
        "dtc = DecisionTreeClassifier()\n",
        "\n",
        "dtc.fit(x_train,y_train)\n",
        "\n",
        "y_pred_train_dtc = dtc.predict(x_train)\n",
        "y_pred_val_dtc = dtc.predict(x_validation)"
      ],
      "execution_count": 65,
      "outputs": []
    },
    {
      "cell_type": "code",
      "metadata": {
        "colab": {
          "base_uri": "https://localhost:8080/"
        },
        "id": "TNordr9tv1-v",
        "outputId": "7b16c87d-c90a-4155-8166-087a10b114ed"
      },
      "source": [
        "\n",
        "print(classification_report(y_train,y_pred_train_dtc))\n",
        "print(classification_report(y_validation,y_pred_val_dtc))\n",
        "\n",
        "#pred_rfc_train=accuracy_score(y_train, y_pred_train_dtc)\n",
        "#pred_rfc_test=accuracy_score(y_test, y_pred_test_dtc)"
      ],
      "execution_count": 66,
      "outputs": [
        {
          "output_type": "stream",
          "name": "stdout",
          "text": [
            "              precision    recall  f1-score   support\n",
            "\n",
            "           0       1.00      1.00      1.00      4127\n",
            "           1       1.00      1.00      1.00      1025\n",
            "\n",
            "    accuracy                           1.00      5152\n",
            "   macro avg       1.00      1.00      1.00      5152\n",
            "weighted avg       1.00      1.00      1.00      5152\n",
            "\n",
            "              precision    recall  f1-score   support\n",
            "\n",
            "           0       0.86      0.88      0.87      1741\n",
            "           1       0.50      0.46      0.48       467\n",
            "\n",
            "    accuracy                           0.79      2208\n",
            "   macro avg       0.68      0.67      0.68      2208\n",
            "weighted avg       0.78      0.79      0.79      2208\n",
            "\n"
          ]
        }
      ]
    },
    {
      "cell_type": "code",
      "metadata": {
        "id": "ETg6WBPSv1-v"
      },
      "source": [
        "y_pred_test_dtc = dtc.predict(churn_test)"
      ],
      "execution_count": 67,
      "outputs": []
    },
    {
      "cell_type": "code",
      "metadata": {
        "colab": {
          "base_uri": "https://localhost:8080/"
        },
        "id": "mBLe7Pzlv1-v",
        "outputId": "dd27167d-6a30-489e-bc4d-547e3a520767"
      },
      "source": [
        "y_pred_test_dtc"
      ],
      "execution_count": 68,
      "outputs": [
        {
          "output_type": "execute_result",
          "data": {
            "text/plain": [
              "array([0, 0, 1, ..., 0, 0, 1], dtype=uint8)"
            ]
          },
          "metadata": {},
          "execution_count": 68
        }
      ]
    },
    {
      "cell_type": "code",
      "metadata": {
        "id": "JbHV-RK7yi6m"
      },
      "source": [
        ""
      ],
      "execution_count": null,
      "outputs": []
    }
  ]
}